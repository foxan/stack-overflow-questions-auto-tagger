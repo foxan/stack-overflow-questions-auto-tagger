{
 "cells": [
  {
   "cell_type": "markdown",
   "metadata": {},
   "source": [
    "### Install jupytext for notebook version control"
   ]
  },
  {
   "cell_type": "code",
   "execution_count": 3,
   "metadata": {
    "scrolled": true
   },
   "outputs": [
    {
     "name": "stdout",
     "output_type": "stream",
     "text": [
      "Collecting pip\n",
      "  Downloading https://files.pythonhosted.org/packages/00/b6/9cfa56b4081ad13874b0c6f96af8ce16cfbc1cb06bedf8e9164ce5551ec1/pip-19.3.1-py2.py3-none-any.whl (1.4MB)\n",
      "Installing collected packages: pip\n",
      "  Found existing installation: pip 10.0.1\n",
      "    Uninstalling pip-10.0.1:\n",
      "      Successfully uninstalled pip-10.0.1\n",
      "Successfully installed pip-19.3.1\n",
      "Requirement already satisfied: jupytext in /home/ec2-user/anaconda3/envs/python3/lib/python3.6/site-packages (1.3.1)\n",
      "Requirement already satisfied: nbformat>=4.0.0 in /home/ec2-user/anaconda3/envs/python3/lib/python3.6/site-packages (from jupytext) (4.4.0)\n",
      "Requirement already satisfied: pyyaml in /home/ec2-user/anaconda3/envs/python3/lib/python3.6/site-packages (from jupytext) (3.12)\n",
      "Requirement already satisfied: ipython_genutils in /home/ec2-user/anaconda3/envs/python3/lib/python3.6/site-packages (from nbformat>=4.0.0->jupytext) (0.2.0)\n",
      "Requirement already satisfied: traitlets>=4.1 in /home/ec2-user/anaconda3/envs/python3/lib/python3.6/site-packages (from nbformat>=4.0.0->jupytext) (4.3.2)\n",
      "Requirement already satisfied: jsonschema!=2.5.0,>=2.4 in /home/ec2-user/anaconda3/envs/python3/lib/python3.6/site-packages (from nbformat>=4.0.0->jupytext) (2.6.0)\n",
      "Requirement already satisfied: jupyter_core in /home/ec2-user/anaconda3/envs/python3/lib/python3.6/site-packages (from nbformat>=4.0.0->jupytext) (4.4.0)\n",
      "Requirement already satisfied: six in /home/ec2-user/anaconda3/envs/python3/lib/python3.6/site-packages (from traitlets>=4.1->nbformat>=4.0.0->jupytext) (1.11.0)\n",
      "Requirement already satisfied: decorator in /home/ec2-user/anaconda3/envs/python3/lib/python3.6/site-packages (from traitlets>=4.1->nbformat>=4.0.0->jupytext) (4.3.0)\n"
     ]
    }
   ],
   "source": [
    "%%bash\n",
    "pip install --upgrade pip\n",
    "pip install jupytext"
   ]
  },
  {
   "cell_type": "markdown",
   "metadata": {},
   "source": [
    "### Download Stack Overflow questions dataset from Kaggle"
   ]
  },
  {
   "cell_type": "code",
   "execution_count": 7,
   "metadata": {
    "scrolled": true
   },
   "outputs": [
    {
     "name": "stdout",
     "output_type": "stream",
     "text": [
      "Collecting kaggle\n",
      "  Downloading https://files.pythonhosted.org/packages/62/ab/bb20f9b9e24f9a6250f95a432f8d9a7d745f8d24039d7a5a6eaadb7783ba/kaggle-1.5.6.tar.gz (58kB)\n",
      "Requirement already satisfied, skipping upgrade: urllib3<1.25,>=1.21.1 in /home/ec2-user/anaconda3/envs/python3/lib/python3.6/site-packages (from kaggle) (1.23)\n",
      "Requirement already satisfied, skipping upgrade: six>=1.10 in /home/ec2-user/anaconda3/envs/python3/lib/python3.6/site-packages (from kaggle) (1.11.0)\n",
      "Requirement already satisfied, skipping upgrade: certifi in /home/ec2-user/anaconda3/envs/python3/lib/python3.6/site-packages (from kaggle) (2019.9.11)\n",
      "Requirement already satisfied, skipping upgrade: python-dateutil in /home/ec2-user/anaconda3/envs/python3/lib/python3.6/site-packages (from kaggle) (2.7.3)\n",
      "Requirement already satisfied, skipping upgrade: requests in /home/ec2-user/anaconda3/envs/python3/lib/python3.6/site-packages (from kaggle) (2.20.0)\n",
      "Collecting tqdm\n",
      "  Downloading https://files.pythonhosted.org/packages/8c/c3/d049cf3fb31094ee045ec1ee29fffac218c91e82c8838c49ab4c3e52627b/tqdm-4.41.0-py2.py3-none-any.whl (56kB)\n",
      "Collecting python-slugify\n",
      "  Downloading https://files.pythonhosted.org/packages/92/5f/7b84a0bba8a0fdd50c046f8b57dcf179dc16237ad33446079b7c484de04c/python-slugify-4.0.0.tar.gz\n",
      "Requirement already satisfied, skipping upgrade: chardet<3.1.0,>=3.0.2 in /home/ec2-user/anaconda3/envs/python3/lib/python3.6/site-packages (from requests->kaggle) (3.0.4)\n",
      "Requirement already satisfied, skipping upgrade: idna<2.8,>=2.5 in /home/ec2-user/anaconda3/envs/python3/lib/python3.6/site-packages (from requests->kaggle) (2.6)\n",
      "Collecting text-unidecode>=1.3\n",
      "  Downloading https://files.pythonhosted.org/packages/a6/a5/c0b6468d3824fe3fde30dbb5e1f687b291608f9473681bbf7dabbf5a87d7/text_unidecode-1.3-py2.py3-none-any.whl (78kB)\n",
      "Building wheels for collected packages: kaggle, python-slugify\n",
      "  Building wheel for kaggle (setup.py): started\n",
      "  Building wheel for kaggle (setup.py): finished with status 'done'\n",
      "  Created wheel for kaggle: filename=kaggle-1.5.6-cp36-none-any.whl size=72866 sha256=2e0a8668af01b5d745915b8442f8bf1f93c1e36a46cabcc17330f98abe757a7f\n",
      "  Stored in directory: /home/ec2-user/.cache/pip/wheels/57/4e/e8/bb28d035162fb8f17f8ca5d42c3230e284c6aa565b42b72674\n",
      "  Building wheel for python-slugify (setup.py): started\n",
      "  Building wheel for python-slugify (setup.py): finished with status 'done'\n",
      "  Created wheel for python-slugify: filename=python_slugify-4.0.0-py2.py3-none-any.whl size=4653 sha256=c4693b0982228bf72d45835b25b76354ef03b2c567343def23559eceece460f7\n",
      "  Stored in directory: /home/ec2-user/.cache/pip/wheels/11/94/81/312969455540cb0e6a773e5d68a73c14128bfdfd4a7969bb4f\n",
      "Successfully built kaggle python-slugify\n",
      "Installing collected packages: tqdm, text-unidecode, python-slugify, kaggle\n",
      "Successfully installed kaggle-1.5.6 python-slugify-4.0.0 text-unidecode-1.3 tqdm-4.41.0\n"
     ]
    }
   ],
   "source": [
    "%%bash\n",
    "pip install kaggle --upgrade"
   ]
  },
  {
   "cell_type": "code",
   "execution_count": 19,
   "metadata": {},
   "outputs": [
    {
     "name": "stdout",
     "output_type": "stream",
     "text": [
      "Downloading stacksample.zip to /home/ec2-user/SageMaker/stack-overflow-questions-auto-tagger\n",
      "\n"
     ]
    },
    {
     "name": "stderr",
     "output_type": "stream",
     "text": [
      "\r",
      "  0%|          | 0.00/1.11G [00:00<?, ?B/s]\r",
      "  0%|          | 1.00M/1.11G [00:00<03:10, 6.23MB/s]\r",
      "  1%|          | 12.0M/1.11G [00:00<02:15, 8.69MB/s]\r",
      "  1%|▏         | 17.0M/1.11G [00:00<01:43, 11.3MB/s]\r",
      "  2%|▏         | 25.0M/1.11G [00:00<01:20, 14.4MB/s]\r",
      "  3%|▎         | 33.0M/1.11G [00:00<01:03, 18.3MB/s]\r",
      "  4%|▍         | 45.0M/1.11G [00:00<00:46, 24.6MB/s]\r",
      "  5%|▍         | 52.0M/1.11G [00:01<01:17, 14.6MB/s]\r",
      "  6%|▌         | 63.0M/1.11G [00:01<00:56, 19.8MB/s]\r",
      "  7%|▋         | 75.0M/1.11G [00:02<00:42, 26.4MB/s]\r",
      "  8%|▊         | 87.0M/1.11G [00:02<00:31, 34.4MB/s]\r",
      "  9%|▊         | 99.0M/1.11G [00:02<00:24, 44.0MB/s]\r",
      " 10%|▉         | 111M/1.11G [00:02<00:19, 54.4MB/s] \r",
      " 11%|█         | 123M/1.11G [00:02<00:16, 65.3MB/s]\r",
      " 12%|█▏        | 134M/1.11G [00:02<00:22, 46.3MB/s]\r",
      " 13%|█▎        | 146M/1.11G [00:03<00:18, 57.1MB/s]\r",
      " 14%|█▍        | 158M/1.11G [00:03<00:15, 68.1MB/s]\r",
      " 15%|█▍        | 170M/1.11G [00:03<00:12, 78.4MB/s]\r",
      " 16%|█▌        | 182M/1.11G [00:03<00:11, 87.9MB/s]\r",
      " 17%|█▋        | 193M/1.11G [00:03<00:10, 94.0MB/s]\r",
      " 18%|█▊        | 205M/1.11G [00:03<00:09, 101MB/s] \r",
      " 19%|█▉        | 217M/1.11G [00:03<00:09, 106MB/s]\r",
      " 20%|██        | 229M/1.11G [00:03<00:08, 110MB/s]\r",
      " 21%|██        | 241M/1.11G [00:03<00:08, 112MB/s]\r",
      " 22%|██▏       | 253M/1.11G [00:03<00:08, 113MB/s]\r",
      " 23%|██▎       | 266M/1.11G [00:04<00:07, 117MB/s]\r",
      " 25%|██▍       | 278M/1.11G [00:04<00:07, 119MB/s]\r",
      " 26%|██▌       | 290M/1.11G [00:04<00:10, 85.7MB/s]\r",
      " 27%|██▋       | 301M/1.11G [00:04<00:09, 92.5MB/s]\r",
      " 27%|██▋       | 311M/1.11G [00:04<00:09, 89.9MB/s]\r",
      " 28%|██▊       | 323M/1.11G [00:04<00:08, 97.5MB/s]\r",
      " 29%|██▉       | 334M/1.11G [00:04<00:08, 100MB/s] \r",
      " 30%|███       | 346M/1.11G [00:04<00:07, 106MB/s]\r",
      " 31%|███▏      | 357M/1.11G [00:06<00:28, 29.1MB/s]\r",
      " 33%|███▎      | 369M/1.11G [00:06<00:21, 36.6MB/s]\r",
      " 33%|███▎      | 378M/1.11G [00:06<00:19, 39.7MB/s]\r",
      " 34%|███▍      | 386M/1.11G [00:06<00:18, 42.3MB/s]\r",
      " 35%|███▌      | 398M/1.11G [00:06<00:14, 52.8MB/s]\r",
      " 36%|███▌      | 409M/1.11G [00:06<00:12, 60.7MB/s]\r",
      " 37%|███▋      | 418M/1.11G [00:06<00:12, 58.7MB/s]\r",
      " 38%|███▊      | 426M/1.11G [00:07<00:13, 55.0MB/s]\r",
      " 39%|███▊      | 438M/1.11G [00:07<00:11, 65.2MB/s]\r",
      " 40%|███▉      | 451M/1.11G [00:07<00:09, 76.3MB/s]\r",
      " 41%|████      | 463M/1.11G [00:07<00:08, 85.2MB/s]\r",
      " 42%|████▏     | 475M/1.11G [00:07<00:07, 93.4MB/s]\r",
      " 43%|████▎     | 487M/1.11G [00:07<00:06, 101MB/s] \r",
      " 44%|████▍     | 498M/1.11G [00:07<00:06, 101MB/s]\r",
      " 45%|████▍     | 509M/1.11G [00:07<00:06, 101MB/s]\r",
      " 46%|████▌     | 521M/1.11G [00:07<00:06, 107MB/s]\r",
      " 47%|████▋     | 532M/1.11G [00:08<00:06, 94.7MB/s]\r",
      " 48%|████▊     | 544M/1.11G [00:08<00:06, 102MB/s] \r",
      " 49%|████▉     | 556M/1.11G [00:08<00:05, 106MB/s]\r",
      " 50%|█████     | 568M/1.11G [00:08<00:05, 110MB/s]\r",
      " 51%|█████     | 579M/1.11G [00:08<00:05, 101MB/s]\r",
      " 52%|█████▏    | 589M/1.11G [00:08<00:06, 89.6MB/s]\r",
      " 53%|█████▎    | 601M/1.11G [00:08<00:05, 97.6MB/s]\r",
      " 54%|█████▍    | 611M/1.11G [00:08<00:07, 76.1MB/s]\r",
      " 55%|█████▍    | 620M/1.11G [00:09<00:08, 64.2MB/s]\r",
      " 55%|█████▌    | 628M/1.11G [00:09<00:08, 62.2MB/s]\r",
      " 56%|█████▌    | 635M/1.11G [00:09<00:09, 52.8MB/s]\r",
      " 56%|█████▋    | 641M/1.11G [00:09<00:11, 45.2MB/s]\r",
      " 57%|█████▋    | 649M/1.11G [00:09<00:10, 47.4MB/s]\r",
      " 58%|█████▊    | 657M/1.11G [00:10<00:10, 47.0MB/s]\r",
      " 59%|█████▊    | 665M/1.11G [00:10<00:09, 52.0MB/s]\r",
      " 60%|█████▉    | 677M/1.11G [00:10<00:07, 63.0MB/s]\r",
      " 61%|██████    | 689M/1.11G [00:10<00:10, 44.8MB/s]\r",
      " 62%|██████▏   | 702M/1.11G [00:10<00:08, 55.6MB/s]\r",
      " 63%|██████▎   | 713M/1.11G [00:11<00:11, 40.0MB/s]\r",
      " 64%|██████▍   | 726M/1.11G [00:11<00:08, 50.7MB/s]\r",
      " 65%|██████▍   | 737M/1.11G [00:11<00:06, 60.2MB/s]\r",
      " 66%|██████▌   | 749M/1.11G [00:11<00:05, 70.6MB/s]\r",
      " 67%|██████▋   | 759M/1.11G [00:11<00:05, 78.2MB/s]\r",
      " 68%|██████▊   | 769M/1.11G [00:12<00:06, 55.9MB/s]\r",
      " 69%|██████▉   | 781M/1.11G [00:12<00:05, 66.6MB/s]\r",
      " 70%|██████▉   | 793M/1.11G [00:12<00:05, 70.0MB/s]\r",
      " 71%|███████   | 802M/1.11G [00:12<00:06, 55.1MB/s]\r",
      " 72%|███████▏  | 814M/1.11G [00:12<00:05, 66.0MB/s]\r",
      " 73%|███████▎  | 826M/1.11G [00:12<00:04, 76.0MB/s]\r",
      " 74%|███████▍  | 838M/1.11G [00:12<00:03, 85.2MB/s]\r",
      " 75%|███████▍  | 850M/1.11G [00:12<00:03, 93.3MB/s]\r",
      " 76%|███████▌  | 862M/1.11G [00:13<00:02, 100MB/s] \r",
      " 77%|███████▋  | 873M/1.11G [00:13<00:03, 69.1MB/s]\r",
      " 78%|███████▊  | 885M/1.11G [00:13<00:03, 79.0MB/s]\r",
      " 79%|███████▉  | 895M/1.11G [00:13<00:04, 58.7MB/s]\r",
      " 80%|████████  | 908M/1.11G [00:13<00:03, 69.8MB/s]\r",
      " 81%|████████  | 920M/1.11G [00:13<00:02, 79.9MB/s]\r",
      " 82%|████████▏ | 930M/1.11G [00:14<00:03, 64.5MB/s]\r",
      " 83%|████████▎ | 939M/1.11G [00:14<00:04, 49.3MB/s]\r",
      " 84%|████████▎ | 950M/1.11G [00:14<00:03, 59.2MB/s]\r",
      " 85%|████████▍ | 962M/1.11G [00:14<00:02, 69.8MB/s]\r",
      " 86%|████████▌ | 974M/1.11G [00:14<00:02, 79.8MB/s]\r",
      " 87%|████████▋ | 985M/1.11G [00:14<00:01, 87.9MB/s]\r",
      " 88%|████████▊ | 997M/1.11G [00:15<00:01, 95.9MB/s]\r",
      " 89%|████████▉ | 0.98G/1.11G [00:15<00:01, 71.7MB/s]\r",
      " 90%|████████▉ | 0.99G/1.11G [00:15<00:01, 73.0MB/s]\r",
      " 91%|█████████ | 1.01G/1.11G [00:15<00:01, 83.9MB/s]\r",
      " 92%|█████████▏| 1.02G/1.11G [00:15<00:01, 58.1MB/s]\r",
      " 93%|█████████▎| 1.03G/1.11G [00:15<00:01, 68.9MB/s]\r",
      " 94%|█████████▍| 1.04G/1.11G [00:16<00:00, 79.1MB/s]\r",
      " 95%|█████████▍| 1.05G/1.11G [00:16<00:01, 57.1MB/s]\r",
      " 96%|█████████▌| 1.06G/1.11G [00:16<00:00, 67.9MB/s]\r",
      " 97%|█████████▋| 1.07G/1.11G [00:16<00:00, 78.2MB/s]\r",
      " 98%|█████████▊| 1.08G/1.11G [00:16<00:00, 87.4MB/s]\r",
      " 99%|█████████▉| 1.09G/1.11G [00:16<00:00, 60.0MB/s]\r",
      "100%|█████████▉| 1.11G/1.11G [00:17<00:00, 70.2MB/s]\r",
      "100%|██████████| 1.11G/1.11G [00:22<00:00, 53.4MB/s]\n"
     ]
    }
   ],
   "source": [
    "%%bash\n",
    "kaggle datasets download -d stackoverflow/stacksample --force"
   ]
  },
  {
   "cell_type": "code",
   "execution_count": 24,
   "metadata": {
    "scrolled": true
   },
   "outputs": [
    {
     "name": "stdout",
     "output_type": "stream",
     "text": [
      "Archive:  /home/ec2-user/SageMaker/stack-overflow-questions-auto-tagger/stacksample.zip\n",
      "  inflating: data/Answers.csv        \n",
      "  inflating: data/Questions.csv      \n",
      "  inflating: data/Tags.csv           \n"
     ]
    }
   ],
   "source": [
    "%%bash\n",
    "unzip /home/ec2-user/SageMaker/stack-overflow-questions-auto-tagger/stacksample.zip -d data"
   ]
  }
 ],
 "metadata": {
  "jupytext": {
   "formats": "ipynb,auto:percent"
  },
  "kernelspec": {
   "display_name": "conda_python3",
   "language": "python",
   "name": "conda_python3"
  },
  "language_info": {
   "codemirror_mode": {
    "name": "ipython",
    "version": 3
   },
   "file_extension": ".py",
   "mimetype": "text/x-python",
   "name": "python",
   "nbconvert_exporter": "python",
   "pygments_lexer": "ipython3",
   "version": "3.6.5"
  }
 },
 "nbformat": 4,
 "nbformat_minor": 4
}
