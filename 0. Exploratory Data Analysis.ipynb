{
 "cells": [
  {
   "cell_type": "markdown",
   "metadata": {},
   "source": [
    "### Install jupytext for notebook version control"
   ]
  },
  {
   "cell_type": "code",
   "execution_count": 3,
   "metadata": {
    "scrolled": true
   },
   "outputs": [
    {
     "name": "stdout",
     "output_type": "stream",
     "text": [
      "Collecting pip\n",
      "  Downloading https://files.pythonhosted.org/packages/00/b6/9cfa56b4081ad13874b0c6f96af8ce16cfbc1cb06bedf8e9164ce5551ec1/pip-19.3.1-py2.py3-none-any.whl (1.4MB)\n",
      "Installing collected packages: pip\n",
      "  Found existing installation: pip 10.0.1\n",
      "    Uninstalling pip-10.0.1:\n",
      "      Successfully uninstalled pip-10.0.1\n",
      "Successfully installed pip-19.3.1\n",
      "Requirement already satisfied: jupytext in /home/ec2-user/anaconda3/envs/python3/lib/python3.6/site-packages (1.3.1)\n",
      "Requirement already satisfied: nbformat>=4.0.0 in /home/ec2-user/anaconda3/envs/python3/lib/python3.6/site-packages (from jupytext) (4.4.0)\n",
      "Requirement already satisfied: pyyaml in /home/ec2-user/anaconda3/envs/python3/lib/python3.6/site-packages (from jupytext) (3.12)\n",
      "Requirement already satisfied: ipython_genutils in /home/ec2-user/anaconda3/envs/python3/lib/python3.6/site-packages (from nbformat>=4.0.0->jupytext) (0.2.0)\n",
      "Requirement already satisfied: traitlets>=4.1 in /home/ec2-user/anaconda3/envs/python3/lib/python3.6/site-packages (from nbformat>=4.0.0->jupytext) (4.3.2)\n",
      "Requirement already satisfied: jsonschema!=2.5.0,>=2.4 in /home/ec2-user/anaconda3/envs/python3/lib/python3.6/site-packages (from nbformat>=4.0.0->jupytext) (2.6.0)\n",
      "Requirement already satisfied: jupyter_core in /home/ec2-user/anaconda3/envs/python3/lib/python3.6/site-packages (from nbformat>=4.0.0->jupytext) (4.4.0)\n",
      "Requirement already satisfied: six in /home/ec2-user/anaconda3/envs/python3/lib/python3.6/site-packages (from traitlets>=4.1->nbformat>=4.0.0->jupytext) (1.11.0)\n",
      "Requirement already satisfied: decorator in /home/ec2-user/anaconda3/envs/python3/lib/python3.6/site-packages (from traitlets>=4.1->nbformat>=4.0.0->jupytext) (4.3.0)\n"
     ]
    }
   ],
   "source": [
    "%%bash\n",
    "pip install --upgrade pip\n",
    "pip install jupytext"
   ]
  },
  {
   "cell_type": "markdown",
   "metadata": {},
   "source": [
    "### Download Stack Overflow questions dataset from Kaggle"
   ]
  },
  {
   "cell_type": "code",
   "execution_count": 7,
   "metadata": {
    "scrolled": true
   },
   "outputs": [
    {
     "name": "stdout",
     "output_type": "stream",
     "text": [
      "Collecting kaggle\n",
      "  Downloading https://files.pythonhosted.org/packages/62/ab/bb20f9b9e24f9a6250f95a432f8d9a7d745f8d24039d7a5a6eaadb7783ba/kaggle-1.5.6.tar.gz (58kB)\n",
      "Requirement already satisfied, skipping upgrade: urllib3<1.25,>=1.21.1 in /home/ec2-user/anaconda3/envs/python3/lib/python3.6/site-packages (from kaggle) (1.23)\n",
      "Requirement already satisfied, skipping upgrade: six>=1.10 in /home/ec2-user/anaconda3/envs/python3/lib/python3.6/site-packages (from kaggle) (1.11.0)\n",
      "Requirement already satisfied, skipping upgrade: certifi in /home/ec2-user/anaconda3/envs/python3/lib/python3.6/site-packages (from kaggle) (2019.9.11)\n",
      "Requirement already satisfied, skipping upgrade: python-dateutil in /home/ec2-user/anaconda3/envs/python3/lib/python3.6/site-packages (from kaggle) (2.7.3)\n",
      "Requirement already satisfied, skipping upgrade: requests in /home/ec2-user/anaconda3/envs/python3/lib/python3.6/site-packages (from kaggle) (2.20.0)\n",
      "Collecting tqdm\n",
      "  Downloading https://files.pythonhosted.org/packages/8c/c3/d049cf3fb31094ee045ec1ee29fffac218c91e82c8838c49ab4c3e52627b/tqdm-4.41.0-py2.py3-none-any.whl (56kB)\n",
      "Collecting python-slugify\n",
      "  Downloading https://files.pythonhosted.org/packages/92/5f/7b84a0bba8a0fdd50c046f8b57dcf179dc16237ad33446079b7c484de04c/python-slugify-4.0.0.tar.gz\n",
      "Requirement already satisfied, skipping upgrade: chardet<3.1.0,>=3.0.2 in /home/ec2-user/anaconda3/envs/python3/lib/python3.6/site-packages (from requests->kaggle) (3.0.4)\n",
      "Requirement already satisfied, skipping upgrade: idna<2.8,>=2.5 in /home/ec2-user/anaconda3/envs/python3/lib/python3.6/site-packages (from requests->kaggle) (2.6)\n",
      "Collecting text-unidecode>=1.3\n",
      "  Downloading https://files.pythonhosted.org/packages/a6/a5/c0b6468d3824fe3fde30dbb5e1f687b291608f9473681bbf7dabbf5a87d7/text_unidecode-1.3-py2.py3-none-any.whl (78kB)\n",
      "Building wheels for collected packages: kaggle, python-slugify\n",
      "  Building wheel for kaggle (setup.py): started\n",
      "  Building wheel for kaggle (setup.py): finished with status 'done'\n",
      "  Created wheel for kaggle: filename=kaggle-1.5.6-cp36-none-any.whl size=72866 sha256=2e0a8668af01b5d745915b8442f8bf1f93c1e36a46cabcc17330f98abe757a7f\n",
      "  Stored in directory: /home/ec2-user/.cache/pip/wheels/57/4e/e8/bb28d035162fb8f17f8ca5d42c3230e284c6aa565b42b72674\n",
      "  Building wheel for python-slugify (setup.py): started\n",
      "  Building wheel for python-slugify (setup.py): finished with status 'done'\n",
      "  Created wheel for python-slugify: filename=python_slugify-4.0.0-py2.py3-none-any.whl size=4653 sha256=c4693b0982228bf72d45835b25b76354ef03b2c567343def23559eceece460f7\n",
      "  Stored in directory: /home/ec2-user/.cache/pip/wheels/11/94/81/312969455540cb0e6a773e5d68a73c14128bfdfd4a7969bb4f\n",
      "Successfully built kaggle python-slugify\n",
      "Installing collected packages: tqdm, text-unidecode, python-slugify, kaggle\n",
      "Successfully installed kaggle-1.5.6 python-slugify-4.0.0 text-unidecode-1.3 tqdm-4.41.0\n"
     ]
    }
   ],
   "source": [
    "%%bash\n",
    "pip install kaggle --upgrade"
   ]
  },
  {
   "cell_type": "code",
   "execution_count": 19,
   "metadata": {},
   "outputs": [
    {
     "name": "stdout",
     "output_type": "stream",
     "text": [
      "Downloading stacksample.zip to /home/ec2-user/SageMaker/stack-overflow-questions-auto-tagger\n",
      "\n"
     ]
    },
    {
     "name": "stderr",
     "output_type": "stream",
     "text": [
      "100%|██████████| 1.11G/1.11G [00:22<00:00, 53.4MB/s]\n"
     ]
    }
   ],
   "source": [
    "%%bash\n",
    "kaggle datasets download -d stackoverflow/stacksample --force"
   ]
  },
  {
   "cell_type": "code",
   "execution_count": 24,
   "metadata": {},
   "outputs": [
    {
     "name": "stdout",
     "output_type": "stream",
     "text": [
      "Archive:  /home/ec2-user/SageMaker/stack-overflow-questions-auto-tagger/stacksample.zip\n",
      "  inflating: data/Answers.csv        \n",
      "  inflating: data/Questions.csv      \n",
      "  inflating: data/Tags.csv           \n"
     ]
    }
   ],
   "source": [
    "%%bash\n",
    "unzip /home/ec2-user/SageMaker/stack-overflow-questions-auto-tagger/stacksample.zip -d data"
   ]
  },
  {
   "cell_type": "markdown",
   "metadata": {},
   "source": [
    "### Exploratory Data Analysis"
   ]
  },
  {
   "cell_type": "code",
   "execution_count": 1,
   "metadata": {},
   "outputs": [],
   "source": [
    "import os\n",
    "\n",
    "HOME_DIR = os.curdir\n",
    "DATA_DIR = os.path.join(HOME_DIR, \"data\")"
   ]
  },
  {
   "cell_type": "code",
   "execution_count": 2,
   "metadata": {
    "scrolled": true
   },
   "outputs": [
    {
     "name": "stdout",
     "output_type": "stream",
     "text": [
      "Requirement already up-to-date: pip in /home/ec2-user/anaconda3/envs/python3/lib/python3.6/site-packages (19.3.1)\n",
      "Requirement already satisfied: seaborn==0.9.0 in /home/ec2-user/anaconda3/envs/python3/lib/python3.6/site-packages (0.9.0)\n",
      "Requirement already satisfied: matplotlib>=1.4.3 in /home/ec2-user/anaconda3/envs/python3/lib/python3.6/site-packages (from seaborn==0.9.0) (3.0.3)\n",
      "Requirement already satisfied: pandas>=0.15.2 in /home/ec2-user/anaconda3/envs/python3/lib/python3.6/site-packages (from seaborn==0.9.0) (0.24.2)\n",
      "Requirement already satisfied: scipy>=0.14.0 in /home/ec2-user/anaconda3/envs/python3/lib/python3.6/site-packages (from seaborn==0.9.0) (1.1.0)\n",
      "Requirement already satisfied: numpy>=1.9.3 in /home/ec2-user/anaconda3/envs/python3/lib/python3.6/site-packages (from seaborn==0.9.0) (1.14.3)\n",
      "Requirement already satisfied: kiwisolver>=1.0.1 in /home/ec2-user/anaconda3/envs/python3/lib/python3.6/site-packages (from matplotlib>=1.4.3->seaborn==0.9.0) (1.0.1)\n",
      "Requirement already satisfied: python-dateutil>=2.1 in /home/ec2-user/anaconda3/envs/python3/lib/python3.6/site-packages (from matplotlib>=1.4.3->seaborn==0.9.0) (2.7.3)\n",
      "Requirement already satisfied: cycler>=0.10 in /home/ec2-user/anaconda3/envs/python3/lib/python3.6/site-packages (from matplotlib>=1.4.3->seaborn==0.9.0) (0.10.0)\n",
      "Requirement already satisfied: pyparsing!=2.0.4,!=2.1.2,!=2.1.6,>=2.0.1 in /home/ec2-user/anaconda3/envs/python3/lib/python3.6/site-packages (from matplotlib>=1.4.3->seaborn==0.9.0) (2.2.0)\n",
      "Requirement already satisfied: pytz>=2011k in /home/ec2-user/anaconda3/envs/python3/lib/python3.6/site-packages (from pandas>=0.15.2->seaborn==0.9.0) (2018.4)\n",
      "Requirement already satisfied: setuptools in /home/ec2-user/anaconda3/envs/python3/lib/python3.6/site-packages (from kiwisolver>=1.0.1->matplotlib>=1.4.3->seaborn==0.9.0) (39.1.0)\n",
      "Requirement already satisfied: six>=1.5 in /home/ec2-user/anaconda3/envs/python3/lib/python3.6/site-packages (from python-dateutil>=2.1->matplotlib>=1.4.3->seaborn==0.9.0) (1.11.0)\n"
     ]
    }
   ],
   "source": [
    "%%bash\n",
    "pip install --upgrade pip\n",
    "pip install seaborn==0.9.0"
   ]
  },
  {
   "cell_type": "code",
   "execution_count": 3,
   "metadata": {},
   "outputs": [],
   "source": [
    "import numpy as np\n",
    "import pandas as pd\n",
    "import matplotlib.pyplot as plt\n",
    "import seaborn as sns\n",
    "\n",
    "pd.options.display.max_colwidth = 255\n",
    "sns.set(style=\"darkgrid\")"
   ]
  },
  {
   "cell_type": "markdown",
   "metadata": {},
   "source": [
    "#### Questions"
   ]
  },
  {
   "cell_type": "code",
   "execution_count": 66,
   "metadata": {},
   "outputs": [
    {
     "name": "stdout",
     "output_type": "stream",
     "text": [
      "CPU times: user 21.3 s, sys: 1.18 s, total: 22.5 s\n",
      "Wall time: 21.3 s\n"
     ]
    }
   ],
   "source": [
    "%%time\n",
    "questions_df = pd.read_csv(os.path.join(DATA_DIR, \"Questions.csv\"), encoding=\"ISO-8859-1\", parse_dates=[\"CreationDate\", \"ClosedDate\"])"
   ]
  },
  {
   "cell_type": "code",
   "execution_count": 68,
   "metadata": {},
   "outputs": [
    {
     "name": "stdout",
     "output_type": "stream",
     "text": [
      "Number of rows: 1264216\n",
      "Number of columns: 7\n"
     ]
    }
   ],
   "source": [
    "print(f\"Number of rows: {questions_df.shape[0]}\")\n",
    "print(f\"Number of columns: {questions_df.shape[1]}\")"
   ]
  },
  {
   "cell_type": "code",
   "execution_count": 69,
   "metadata": {},
   "outputs": [
    {
     "data": {
      "text/html": [
       "<div>\n",
       "<style scoped>\n",
       "    .dataframe tbody tr th:only-of-type {\n",
       "        vertical-align: middle;\n",
       "    }\n",
       "\n",
       "    .dataframe tbody tr th {\n",
       "        vertical-align: top;\n",
       "    }\n",
       "\n",
       "    .dataframe thead th {\n",
       "        text-align: right;\n",
       "    }\n",
       "</style>\n",
       "<table border=\"1\" class=\"dataframe\">\n",
       "  <thead>\n",
       "    <tr style=\"text-align: right;\">\n",
       "      <th></th>\n",
       "      <th>Id</th>\n",
       "      <th>OwnerUserId</th>\n",
       "      <th>CreationDate</th>\n",
       "      <th>ClosedDate</th>\n",
       "      <th>Score</th>\n",
       "      <th>Title</th>\n",
       "      <th>Body</th>\n",
       "    </tr>\n",
       "  </thead>\n",
       "  <tbody>\n",
       "    <tr>\n",
       "      <th>0</th>\n",
       "      <td>80</td>\n",
       "      <td>26.0</td>\n",
       "      <td>2008-08-01 13:57:07+00:00</td>\n",
       "      <td>NaT</td>\n",
       "      <td>26</td>\n",
       "      <td>SQLStatement.execute() - multiple queries in one statement</td>\n",
       "      <td>&lt;p&gt;I've written a database generation script in &lt;a href=\"http://en.wikipedia.org/wiki/SQL\"&gt;SQL&lt;/a&gt; and want to execute it in my &lt;a href=\"http://en.wikipedia.org/wiki/Adobe_Integrated_Runtime\"&gt;Adobe AIR&lt;/a&gt; application:&lt;/p&gt;\\n\\n&lt;pre&gt;&lt;code&gt;Create Table t...</td>\n",
       "    </tr>\n",
       "    <tr>\n",
       "      <th>1</th>\n",
       "      <td>90</td>\n",
       "      <td>58.0</td>\n",
       "      <td>2008-08-01 14:41:24+00:00</td>\n",
       "      <td>2012-12-26 03:45:49+00:00</td>\n",
       "      <td>144</td>\n",
       "      <td>Good branching and merging tutorials for TortoiseSVN?</td>\n",
       "      <td>&lt;p&gt;Are there any really good tutorials explaining &lt;a href=\"http://svnbook.red-bean.com/en/1.8/svn.branchmerge.html\" rel=\"nofollow\"&gt;branching and merging&lt;/a&gt; with Apache Subversion? &lt;/p&gt;\\n\\n&lt;p&gt;All the better if it's specific to TortoiseSVN client.&lt;/p&gt;\\n</td>\n",
       "    </tr>\n",
       "    <tr>\n",
       "      <th>2</th>\n",
       "      <td>120</td>\n",
       "      <td>83.0</td>\n",
       "      <td>2008-08-01 15:50:08+00:00</td>\n",
       "      <td>NaT</td>\n",
       "      <td>21</td>\n",
       "      <td>ASP.NET Site Maps</td>\n",
       "      <td>&lt;p&gt;Has anyone got experience creating &lt;strong&gt;SQL-based ASP.NET&lt;/strong&gt; site-map providers?&lt;/p&gt;\\n\\n&lt;p&gt;I've got the default XML file &lt;code&gt;web.sitemap&lt;/code&gt; working properly with my Menu and &lt;strong&gt;SiteMapPath&lt;/strong&gt; controls, but I'll need a way ...</td>\n",
       "    </tr>\n",
       "    <tr>\n",
       "      <th>3</th>\n",
       "      <td>180</td>\n",
       "      <td>2089740.0</td>\n",
       "      <td>2008-08-01 18:42:19+00:00</td>\n",
       "      <td>NaT</td>\n",
       "      <td>53</td>\n",
       "      <td>Function for creating color wheels</td>\n",
       "      <td>&lt;p&gt;This is something I've pseudo-solved many times and never quite found a solution. That's stuck with me. The problem is to come up with a way to generate &lt;code&gt;N&lt;/code&gt; colors, that are as distinguishable as possible where &lt;code&gt;N&lt;/code&gt; is a parame...</td>\n",
       "    </tr>\n",
       "    <tr>\n",
       "      <th>4</th>\n",
       "      <td>260</td>\n",
       "      <td>91.0</td>\n",
       "      <td>2008-08-01 23:22:08+00:00</td>\n",
       "      <td>NaT</td>\n",
       "      <td>49</td>\n",
       "      <td>Adding scripting functionality to .NET applications</td>\n",
       "      <td>&lt;p&gt;I have a little game written in C#. It uses a database as back-end. It's \\na &lt;a href=\"http://en.wikipedia.org/wiki/Collectible_card_game\"&gt;trading card game&lt;/a&gt;, and I wanted to implement the function of the cards as a script.&lt;/p&gt;\\n\\n&lt;p&gt;What I mean ...</td>\n",
       "    </tr>\n",
       "  </tbody>\n",
       "</table>\n",
       "</div>"
      ],
      "text/plain": [
       "    Id  OwnerUserId              CreationDate                ClosedDate  \\\n",
       "0   80         26.0 2008-08-01 13:57:07+00:00                       NaT   \n",
       "1   90         58.0 2008-08-01 14:41:24+00:00 2012-12-26 03:45:49+00:00   \n",
       "2  120         83.0 2008-08-01 15:50:08+00:00                       NaT   \n",
       "3  180    2089740.0 2008-08-01 18:42:19+00:00                       NaT   \n",
       "4  260         91.0 2008-08-01 23:22:08+00:00                       NaT   \n",
       "\n",
       "   Score                                                       Title  \\\n",
       "0     26  SQLStatement.execute() - multiple queries in one statement   \n",
       "1    144       Good branching and merging tutorials for TortoiseSVN?   \n",
       "2     21                                           ASP.NET Site Maps   \n",
       "3     53                          Function for creating color wheels   \n",
       "4     49         Adding scripting functionality to .NET applications   \n",
       "\n",
       "                                                                                                                                                                                                                                                             Body  \n",
       "0  <p>I've written a database generation script in <a href=\"http://en.wikipedia.org/wiki/SQL\">SQL</a> and want to execute it in my <a href=\"http://en.wikipedia.org/wiki/Adobe_Integrated_Runtime\">Adobe AIR</a> application:</p>\\n\\n<pre><code>Create Table t...  \n",
       "1    <p>Are there any really good tutorials explaining <a href=\"http://svnbook.red-bean.com/en/1.8/svn.branchmerge.html\" rel=\"nofollow\">branching and merging</a> with Apache Subversion? </p>\\n\\n<p>All the better if it's specific to TortoiseSVN client.</p>\\n  \n",
       "2  <p>Has anyone got experience creating <strong>SQL-based ASP.NET</strong> site-map providers?</p>\\n\\n<p>I've got the default XML file <code>web.sitemap</code> working properly with my Menu and <strong>SiteMapPath</strong> controls, but I'll need a way ...  \n",
       "3  <p>This is something I've pseudo-solved many times and never quite found a solution. That's stuck with me. The problem is to come up with a way to generate <code>N</code> colors, that are as distinguishable as possible where <code>N</code> is a parame...  \n",
       "4  <p>I have a little game written in C#. It uses a database as back-end. It's \\na <a href=\"http://en.wikipedia.org/wiki/Collectible_card_game\">trading card game</a>, and I wanted to implement the function of the cards as a script.</p>\\n\\n<p>What I mean ...  "
      ]
     },
     "execution_count": 69,
     "metadata": {},
     "output_type": "execute_result"
    }
   ],
   "source": [
    "questions_df.head()"
   ]
  },
  {
   "cell_type": "markdown",
   "metadata": {},
   "source": [
    "We can see that `Title` is in plain text, while `Body` is in HTML format, which requires a lot of data cleansing before it is in a useful format. Also note that punctuations can be meaningful in this problem, e.g. `ASP.NET`, `C#`, etc, so we need to be careful not to remove them during data cleansing."
   ]
  },
  {
   "cell_type": "markdown",
   "metadata": {},
   "source": [
    "#### Tags"
   ]
  },
  {
   "cell_type": "code",
   "execution_count": 70,
   "metadata": {},
   "outputs": [
    {
     "name": "stdout",
     "output_type": "stream",
     "text": [
      "CPU times: user 2.9 s, sys: 196 ms, total: 3.1 s\n",
      "Wall time: 1.1 s\n"
     ]
    }
   ],
   "source": [
    "%%time\n",
    "tags_df = pd.read_csv(os.path.join(DATA_DIR, \"Tags.csv\"), encoding=\"ISO-8859-1\")"
   ]
  },
  {
   "cell_type": "code",
   "execution_count": 71,
   "metadata": {},
   "outputs": [
    {
     "name": "stdout",
     "output_type": "stream",
     "text": [
      "Number of rows: 3750994\n",
      "Number of columns: 2\n"
     ]
    }
   ],
   "source": [
    "print(f\"Number of rows: {tags_df.shape[0]}\")\n",
    "print(f\"Number of columns: {tags_df.shape[1]}\")"
   ]
  },
  {
   "cell_type": "code",
   "execution_count": 72,
   "metadata": {},
   "outputs": [
    {
     "data": {
      "text/html": [
       "<div>\n",
       "<style scoped>\n",
       "    .dataframe tbody tr th:only-of-type {\n",
       "        vertical-align: middle;\n",
       "    }\n",
       "\n",
       "    .dataframe tbody tr th {\n",
       "        vertical-align: top;\n",
       "    }\n",
       "\n",
       "    .dataframe thead th {\n",
       "        text-align: right;\n",
       "    }\n",
       "</style>\n",
       "<table border=\"1\" class=\"dataframe\">\n",
       "  <thead>\n",
       "    <tr style=\"text-align: right;\">\n",
       "      <th></th>\n",
       "      <th>Id</th>\n",
       "      <th>Tag</th>\n",
       "    </tr>\n",
       "  </thead>\n",
       "  <tbody>\n",
       "    <tr>\n",
       "      <th>0</th>\n",
       "      <td>80</td>\n",
       "      <td>flex</td>\n",
       "    </tr>\n",
       "    <tr>\n",
       "      <th>1</th>\n",
       "      <td>80</td>\n",
       "      <td>actionscript-3</td>\n",
       "    </tr>\n",
       "    <tr>\n",
       "      <th>2</th>\n",
       "      <td>80</td>\n",
       "      <td>air</td>\n",
       "    </tr>\n",
       "    <tr>\n",
       "      <th>3</th>\n",
       "      <td>90</td>\n",
       "      <td>svn</td>\n",
       "    </tr>\n",
       "    <tr>\n",
       "      <th>4</th>\n",
       "      <td>90</td>\n",
       "      <td>tortoisesvn</td>\n",
       "    </tr>\n",
       "  </tbody>\n",
       "</table>\n",
       "</div>"
      ],
      "text/plain": [
       "   Id             Tag\n",
       "0  80            flex\n",
       "1  80  actionscript-3\n",
       "2  80             air\n",
       "3  90             svn\n",
       "4  90     tortoisesvn"
      ]
     },
     "execution_count": 72,
     "metadata": {},
     "output_type": "execute_result"
    }
   ],
   "source": [
    "tags_df.head()"
   ]
  },
  {
   "cell_type": "markdown",
   "metadata": {},
   "source": [
    "`Questions` has a one-to-many relationship with `Tags`, as there is only one question ID and tag pair in each record."
   ]
  },
  {
   "cell_type": "markdown",
   "metadata": {},
   "source": [
    "### Top 10 tags with most questions"
   ]
  },
  {
   "cell_type": "code",
   "execution_count": 10,
   "metadata": {},
   "outputs": [],
   "source": [
    "tag_value_counts = tags_df[\"Tag\"].value_counts()"
   ]
  },
  {
   "cell_type": "code",
   "execution_count": 11,
   "metadata": {},
   "outputs": [
    {
     "data": {
      "text/plain": [
       "javascript    124155\n",
       "java          115212\n",
       "c#            101186\n",
       "php            98808\n",
       "android        90659\n",
       "jquery         78542\n",
       "python         64601\n",
       "html           58976\n",
       "c++            47591\n",
       "ios            47009\n",
       "Name: Tag, dtype: int64"
      ]
     },
     "execution_count": 11,
     "metadata": {},
     "output_type": "execute_result"
    }
   ],
   "source": [
    "top_ten_tags = tag_value_counts.head(10)\n",
    "top_ten_tags"
   ]
  },
  {
   "cell_type": "code",
   "execution_count": 12,
   "metadata": {},
   "outputs": [
    {
     "data": {
      "text/plain": [
       "(array([0, 1, 2, 3, 4, 5, 6, 7, 8, 9]), <a list of 10 Text xticklabel objects>)"
      ]
     },
     "execution_count": 12,
     "metadata": {},
     "output_type": "execute_result"
    },
    {
     "data": {
      "image/png": "[encoded data removed]",
      "text/plain": [
       "<Figure size 432x288 with 1 Axes>"
      ]
     },
     "metadata": {},
     "output_type": "display_data"
    }
   ],
   "source": [
    "sns.barplot(x=top_ten_tags.index, y=top_ten_tags.values)\n",
    "plt.xticks(rotation=45)"
   ]
  },
  {
   "cell_type": "markdown",
   "metadata": {},
   "source": [
    "### Top 50 tags with most questions"
   ]
  },
  {
   "cell_type": "code",
   "execution_count": 13,
   "metadata": {
    "scrolled": true
   },
   "outputs": [
    {
     "data": {
      "text/plain": [
       "javascript        124155\n",
       "java              115212\n",
       "c#                101186\n",
       "php                98808\n",
       "android            90659\n",
       "jquery             78542\n",
       "python             64601\n",
       "html               58976\n",
       "c++                47591\n",
       "ios                47009\n",
       "mysql              42464\n",
       "css                42308\n",
       "sql                35782\n",
       "asp.net            29970\n",
       "objective-c        26922\n",
       "ruby-on-rails      25789\n",
       ".net               24059\n",
       "c                  23238\n",
       "iphone             21539\n",
       "angularjs          20345\n",
       "arrays             19799\n",
       "sql-server         18160\n",
       "json               17669\n",
       "ruby               17013\n",
       "r                  15701\n",
       "ajax               15629\n",
       "regex              15349\n",
       "xml                14763\n",
       "node.js            14525\n",
       "asp.net-mvc        14284\n",
       "linux              13395\n",
       "django             12818\n",
       "wpf                12365\n",
       "database           11860\n",
       "swift              11832\n",
       "xcode              10633\n",
       "string             10427\n",
       "excel              10384\n",
       "vb.net             10286\n",
       "windows            10142\n",
       "spring              9935\n",
       "wordpress           9913\n",
       "eclipse             9895\n",
       "html5               9564\n",
       "multithreading      9006\n",
       "oracle              7645\n",
       "git                 7626\n",
       "facebook            7598\n",
       "forms               7588\n",
       "bash                7484\n",
       "Name: Tag, dtype: int64"
      ]
     },
     "execution_count": 13,
     "metadata": {},
     "output_type": "execute_result"
    }
   ],
   "source": [
    "top_fifty_tags = tag_value_counts.head(50)\n",
    "top_fifty_tags"
   ]
  },
  {
   "cell_type": "markdown",
   "metadata": {},
   "source": [
    "#### Let's plot the counts to have a better visualization about the distribution:"
   ]
  },
  {
   "cell_type": "code",
   "execution_count": 14,
   "metadata": {},
   "outputs": [
    {
     "data": {
      "text/plain": [
       "<matplotlib.axes._subplots.AxesSubplot at 0x7f9f456aaf28>"
      ]
     },
     "execution_count": 14,
     "metadata": {},
     "output_type": "execute_result"
    },
    {
     "data": {
      "image/png": "[encoded data removed]",
      "text/plain": [
       "<Figure size 432x288 with 1 Axes>"
      ]
     },
     "metadata": {},
     "output_type": "display_data"
    }
   ],
   "source": [
    "top_fifty_tags_barplot = sns.barplot(x=top_fifty_tags.index, y=top_fifty_tags.values)\n",
    "for i, label in enumerate(top_fifty_tags_barplot.xaxis.get_ticklabels()):\n",
    "    if i % 5 != 0:\n",
    "        label.set_visible(False)\n",
    "plt.xticks(rotation=45)\n",
    "top_fifty_tags_barplot"
   ]
  },
  {
   "cell_type": "markdown",
   "metadata": {},
   "source": [
    "We can see that the number of questions per tag clearly demostrates a long tail distribution. Therefore, we can limit the number of tags to include in the dataset, so that the model training can be more efficient, while still maintain a high level of accuracy."
   ]
  },
  {
   "cell_type": "code",
   "execution_count": 54,
   "metadata": {
    "scrolled": true
   },
   "outputs": [
    {
     "data": {
      "text/plain": [
       "javascript            3.31%\n",
       "java                  6.38%\n",
       "c#                    9.08%\n",
       "php                  11.72%\n",
       "android              14.13%\n",
       "jquery               16.23%\n",
       "python               17.95%\n",
       "html                 19.52%\n",
       "c++                  20.79%\n",
       "ios                  22.05%\n",
       "mysql                23.18%\n",
       "css                  24.31%\n",
       "sql                  25.26%\n",
       "asp.net              26.06%\n",
       "objective-c          26.78%\n",
       "ruby-on-rails        27.47%\n",
       ".net                 28.11%\n",
       "c                    28.73%\n",
       "iphone               29.30%\n",
       "angularjs            29.85%\n",
       "arrays               30.37%\n",
       "sql-server           30.86%\n",
       "json                 31.33%\n",
       "ruby                 31.78%\n",
       "r                    32.20%\n",
       "ajax                 32.62%\n",
       "regex                33.03%\n",
       "xml                  33.42%\n",
       "node.js              33.81%\n",
       "asp.net-mvc          34.19%\n",
       "                      ...  \n",
       "mediaelement.js      89.89%\n",
       "tortoisegit          89.89%\n",
       "zoo                  89.89%\n",
       "gpuimage             89.89%\n",
       "factorial            89.89%\n",
       "base                 89.90%\n",
       "account              89.90%\n",
       "updating             89.90%\n",
       "webapp2              89.90%\n",
       "dc.js                89.91%\n",
       "jsonschema           89.91%\n",
       "android-gallery      89.91%\n",
       "hadoop-streaming     89.91%\n",
       "dijkstra             89.91%\n",
       "crosstab             89.92%\n",
       "w3c-validation       89.92%\n",
       "menubar              89.92%\n",
       "sunspot              89.92%\n",
       "qa                   89.92%\n",
       "itemscontrol         89.93%\n",
       "metrics              89.93%\n",
       "salt                 89.93%\n",
       "singly-linked-list   89.93%\n",
       "translate            89.93%\n",
       "literals             89.94%\n",
       "system.drawing       89.94%\n",
       "informatica          89.94%\n",
       "gmaps4rails          89.94%\n",
       "jooq                 89.95%\n",
       "tmux                 89.95%\n",
       "Name: Tag, Length: 4000, dtype: float64"
      ]
     },
     "execution_count": 54,
     "metadata": {},
     "output_type": "execute_result"
    }
   ],
   "source": [
    "pd.options.display.float_format = \"{:.2f}%\".format\n",
    "100 * tag_value_counts.head(4000).cumsum() / tag_value_counts.sum()"
   ]
  },
  {
   "cell_type": "markdown",
   "metadata": {},
   "source": [
    "The top 4000 tags cover almost 90% of the questions in the dataset. Therefore, I will limit the dataset to include only questions with the top 4000 tags to reduce the size and time for model training. We can always include more tags later in case we find the model is not as performant as expected."
   ]
  },
  {
   "cell_type": "markdown",
   "metadata": {},
   "source": [
    "#### Joining `Questions` with `Tags`"
   ]
  },
  {
   "cell_type": "code",
   "execution_count": 73,
   "metadata": {},
   "outputs": [],
   "source": [
    "# standardize column names\n",
    "for df in [questions_df, tags_df]:\n",
    "    df.columns = df.columns.str.lower()"
   ]
  },
  {
   "cell_type": "code",
   "execution_count": 40,
   "metadata": {},
   "outputs": [
    {
     "name": "stdout",
     "output_type": "stream",
     "text": [
      "CPU times: user 1min 42s, sys: 200 ms, total: 1min 42s\n",
      "Wall time: 1min 41s\n"
     ]
    }
   ],
   "source": [
    "%%time\n",
    "# group rows per question id\n",
    "tags_per_question_df = tags_df.groupby(['id'])['tag'].apply(list)"
   ]
  },
  {
   "cell_type": "code",
   "execution_count": 41,
   "metadata": {},
   "outputs": [
    {
     "data": {
      "text/plain": [
       "id\n",
       "80                             [flex, actionscript-3, air]\n",
       "90       [svn, tortoisesvn, branch, branching-and-merging]\n",
       "120                                [sql, asp.net, sitemap]\n",
       "180    [algorithm, language-agnostic, colors, color-space]\n",
       "260           [c#, .net, scripting, compiler-construction]\n",
       "Name: tag, dtype: object"
      ]
     },
     "execution_count": 41,
     "metadata": {},
     "output_type": "execute_result"
    }
   ],
   "source": [
    "tags_per_question_df.head()"
   ]
  },
  {
   "cell_type": "code",
   "execution_count": 92,
   "metadata": {},
   "outputs": [
    {
     "name": "stdout",
     "output_type": "stream",
     "text": [
      "CPU times: user 1.49 s, sys: 33.9 ms, total: 1.53 s\n",
      "Wall time: 484 ms\n"
     ]
    }
   ],
   "source": [
    "%%time\n",
    "# we are only interested in text column from `questions_df`\n",
    "df = questions_df[[\"id\", \"title\", \"body\"]].merge(tags_per_question_df.to_frame(), on=\"id\")"
   ]
  },
  {
   "cell_type": "code",
   "execution_count": 93,
   "metadata": {},
   "outputs": [],
   "source": [
    "df[\"tag_count\"] = df[\"tag\"].apply(len)"
   ]
  },
  {
   "cell_type": "code",
   "execution_count": 94,
   "metadata": {},
   "outputs": [
    {
     "data": {
      "text/html": [
       "<div>\n",
       "<style scoped>\n",
       "    .dataframe tbody tr th:only-of-type {\n",
       "        vertical-align: middle;\n",
       "    }\n",
       "\n",
       "    .dataframe tbody tr th {\n",
       "        vertical-align: top;\n",
       "    }\n",
       "\n",
       "    .dataframe thead th {\n",
       "        text-align: right;\n",
       "    }\n",
       "</style>\n",
       "<table border=\"1\" class=\"dataframe\">\n",
       "  <thead>\n",
       "    <tr style=\"text-align: right;\">\n",
       "      <th></th>\n",
       "      <th>id</th>\n",
       "      <th>title</th>\n",
       "      <th>body</th>\n",
       "      <th>tag</th>\n",
       "      <th>tag_count</th>\n",
       "    </tr>\n",
       "  </thead>\n",
       "  <tbody>\n",
       "    <tr>\n",
       "      <th>0</th>\n",
       "      <td>80</td>\n",
       "      <td>SQLStatement.execute() - multiple queries in one statement</td>\n",
       "      <td>&lt;p&gt;I've written a database generation script in &lt;a href=\"http://en.wikipedia.org/wiki/SQL\"&gt;SQL&lt;/a&gt; and want to execute it in my &lt;a href=\"http://en.wikipedia.org/wiki/Adobe_Integrated_Runtime\"&gt;Adobe AIR&lt;/a&gt; application:&lt;/p&gt;\\n\\n&lt;pre&gt;&lt;code&gt;Create Table t...</td>\n",
       "      <td>[flex, actionscript-3, air]</td>\n",
       "      <td>3</td>\n",
       "    </tr>\n",
       "    <tr>\n",
       "      <th>1</th>\n",
       "      <td>90</td>\n",
       "      <td>Good branching and merging tutorials for TortoiseSVN?</td>\n",
       "      <td>&lt;p&gt;Are there any really good tutorials explaining &lt;a href=\"http://svnbook.red-bean.com/en/1.8/svn.branchmerge.html\" rel=\"nofollow\"&gt;branching and merging&lt;/a&gt; with Apache Subversion? &lt;/p&gt;\\n\\n&lt;p&gt;All the better if it's specific to TortoiseSVN client.&lt;/p&gt;\\n</td>\n",
       "      <td>[svn, tortoisesvn, branch, branching-and-merging]</td>\n",
       "      <td>4</td>\n",
       "    </tr>\n",
       "    <tr>\n",
       "      <th>2</th>\n",
       "      <td>120</td>\n",
       "      <td>ASP.NET Site Maps</td>\n",
       "      <td>&lt;p&gt;Has anyone got experience creating &lt;strong&gt;SQL-based ASP.NET&lt;/strong&gt; site-map providers?&lt;/p&gt;\\n\\n&lt;p&gt;I've got the default XML file &lt;code&gt;web.sitemap&lt;/code&gt; working properly with my Menu and &lt;strong&gt;SiteMapPath&lt;/strong&gt; controls, but I'll need a way ...</td>\n",
       "      <td>[sql, asp.net, sitemap]</td>\n",
       "      <td>3</td>\n",
       "    </tr>\n",
       "    <tr>\n",
       "      <th>3</th>\n",
       "      <td>180</td>\n",
       "      <td>Function for creating color wheels</td>\n",
       "      <td>&lt;p&gt;This is something I've pseudo-solved many times and never quite found a solution. That's stuck with me. The problem is to come up with a way to generate &lt;code&gt;N&lt;/code&gt; colors, that are as distinguishable as possible where &lt;code&gt;N&lt;/code&gt; is a parame...</td>\n",
       "      <td>[algorithm, language-agnostic, colors, color-space]</td>\n",
       "      <td>4</td>\n",
       "    </tr>\n",
       "    <tr>\n",
       "      <th>4</th>\n",
       "      <td>260</td>\n",
       "      <td>Adding scripting functionality to .NET applications</td>\n",
       "      <td>&lt;p&gt;I have a little game written in C#. It uses a database as back-end. It's \\na &lt;a href=\"http://en.wikipedia.org/wiki/Collectible_card_game\"&gt;trading card game&lt;/a&gt;, and I wanted to implement the function of the cards as a script.&lt;/p&gt;\\n\\n&lt;p&gt;What I mean ...</td>\n",
       "      <td>[c#, .net, scripting, compiler-construction]</td>\n",
       "      <td>4</td>\n",
       "    </tr>\n",
       "  </tbody>\n",
       "</table>\n",
       "</div>"
      ],
      "text/plain": [
       "    id                                                       title  \\\n",
       "0   80  SQLStatement.execute() - multiple queries in one statement   \n",
       "1   90       Good branching and merging tutorials for TortoiseSVN?   \n",
       "2  120                                           ASP.NET Site Maps   \n",
       "3  180                          Function for creating color wheels   \n",
       "4  260         Adding scripting functionality to .NET applications   \n",
       "\n",
       "                                                                                                                                                                                                                                                             body  \\\n",
       "0  <p>I've written a database generation script in <a href=\"http://en.wikipedia.org/wiki/SQL\">SQL</a> and want to execute it in my <a href=\"http://en.wikipedia.org/wiki/Adobe_Integrated_Runtime\">Adobe AIR</a> application:</p>\\n\\n<pre><code>Create Table t...   \n",
       "1    <p>Are there any really good tutorials explaining <a href=\"http://svnbook.red-bean.com/en/1.8/svn.branchmerge.html\" rel=\"nofollow\">branching and merging</a> with Apache Subversion? </p>\\n\\n<p>All the better if it's specific to TortoiseSVN client.</p>\\n   \n",
       "2  <p>Has anyone got experience creating <strong>SQL-based ASP.NET</strong> site-map providers?</p>\\n\\n<p>I've got the default XML file <code>web.sitemap</code> working properly with my Menu and <strong>SiteMapPath</strong> controls, but I'll need a way ...   \n",
       "3  <p>This is something I've pseudo-solved many times and never quite found a solution. That's stuck with me. The problem is to come up with a way to generate <code>N</code> colors, that are as distinguishable as possible where <code>N</code> is a parame...   \n",
       "4  <p>I have a little game written in C#. It uses a database as back-end. It's \\na <a href=\"http://en.wikipedia.org/wiki/Collectible_card_game\">trading card game</a>, and I wanted to implement the function of the cards as a script.</p>\\n\\n<p>What I mean ...   \n",
       "\n",
       "                                                   tag  tag_count  \n",
       "0                          [flex, actionscript-3, air]          3  \n",
       "1    [svn, tortoisesvn, branch, branching-and-merging]          4  \n",
       "2                              [sql, asp.net, sitemap]          3  \n",
       "3  [algorithm, language-agnostic, colors, color-space]          4  \n",
       "4         [c#, .net, scripting, compiler-construction]          4  "
      ]
     },
     "execution_count": 94,
     "metadata": {},
     "output_type": "execute_result"
    }
   ],
   "source": [
    "df.head()"
   ]
  },
  {
   "cell_type": "markdown",
   "metadata": {},
   "source": [
    "#### Minimum, maximum and average tags per question"
   ]
  },
  {
   "cell_type": "code",
   "execution_count": 95,
   "metadata": {},
   "outputs": [],
   "source": [
    "min_tag_count = df[\"tag_count\"].min()\n",
    "max_tag_count = df[\"tag_count\"].max()\n",
    "avg_tag_count = df[\"tag_count\"].mean()"
   ]
  },
  {
   "cell_type": "code",
   "execution_count": 96,
   "metadata": {},
   "outputs": [
    {
     "name": "stdout",
     "output_type": "stream",
     "text": [
      "Each question has a minimum of 1 tag and a maximum of 5 tags. The average number of tags per question is 2.97.\n"
     ]
    }
   ],
   "source": [
    "print(f\"Each question has a minimum of {min_tag_count} tag and a maximum of {max_tag_count} tags. \\\n",
    "The average number of tags per question is {avg_tag_count:.2f}.\")"
   ]
  },
  {
   "cell_type": "code",
   "execution_count": null,
   "metadata": {},
   "outputs": [],
   "source": []
  }
 ],
 "metadata": {
  "jupytext": {
   "formats": "ipynb,py:percent"
  },
  "kernelspec": {
   "display_name": "Python 3",
   "language": "python",
   "name": "python3"
  },
  "language_info": {
   "codemirror_mode": {
    "name": "ipython",
    "version": 3
   },
   "file_extension": ".py",
   "mimetype": "text/x-python",
   "name": "python",
   "nbconvert_exporter": "python",
   "pygments_lexer": "ipython3",
   "version": "3.6.5"
  }
 },
 "nbformat": 4,
 "nbformat_minor": 4
}
