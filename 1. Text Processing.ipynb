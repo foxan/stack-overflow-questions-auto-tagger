{
 "cells": [
  {
   "cell_type": "markdown",
   "metadata": {},
   "source": [
    "In the notebook, I will focus on data cleansing, such as removing HTML tags from body text, and some other text processing, so that the dataset will be ready for feature extraction."
   ]
  },
  {
   "cell_type": "code",
   "execution_count": 1,
   "metadata": {},
   "outputs": [],
   "source": [
    "import os\n",
    "\n",
    "HOME_DIR = os.curdir\n",
    "DATA_DIR = os.path.join(HOME_DIR, \"data\")"
   ]
  },
  {
   "cell_type": "code",
   "execution_count": 2,
   "metadata": {},
   "outputs": [],
   "source": [
    "import nltk\n",
    "import pandas as pd\n",
    "from bs4 import BeautifulSoup\n",
    "from tqdm import tqdm\n",
    "\n",
    "pd.options.display.max_colwidth = 255\n",
    "tqdm.pandas()"
   ]
  },
  {
   "cell_type": "code",
   "execution_count": 3,
   "metadata": {},
   "outputs": [],
   "source": [
    "df = pd.read_pickle(f\"{DATA_DIR}/eda.pkl\")"
   ]
  },
  {
   "cell_type": "code",
   "execution_count": 4,
   "metadata": {},
   "outputs": [
    {
     "data": {
      "text/html": [
       "<div>\n",
       "<style scoped>\n",
       "    .dataframe tbody tr th:only-of-type {\n",
       "        vertical-align: middle;\n",
       "    }\n",
       "\n",
       "    .dataframe tbody tr th {\n",
       "        vertical-align: top;\n",
       "    }\n",
       "\n",
       "    .dataframe thead th {\n",
       "        text-align: right;\n",
       "    }\n",
       "</style>\n",
       "<table border=\"1\" class=\"dataframe\">\n",
       "  <thead>\n",
       "    <tr style=\"text-align: right;\">\n",
       "      <th></th>\n",
       "      <th>id</th>\n",
       "      <th>title</th>\n",
       "      <th>body</th>\n",
       "      <th>tag</th>\n",
       "      <th>tag_count</th>\n",
       "    </tr>\n",
       "  </thead>\n",
       "  <tbody>\n",
       "    <tr>\n",
       "      <th>0</th>\n",
       "      <td>80</td>\n",
       "      <td>SQLStatement.execute() - multiple queries in o...</td>\n",
       "      <td>&lt;p&gt;I've written a database generation script i...</td>\n",
       "      <td>[flex, actionscript-3, air]</td>\n",
       "      <td>3</td>\n",
       "    </tr>\n",
       "    <tr>\n",
       "      <th>1</th>\n",
       "      <td>90</td>\n",
       "      <td>Good branching and merging tutorials for Torto...</td>\n",
       "      <td>&lt;p&gt;Are there any really good tutorials explain...</td>\n",
       "      <td>[svn, tortoisesvn, branch, branching-and-merging]</td>\n",
       "      <td>4</td>\n",
       "    </tr>\n",
       "    <tr>\n",
       "      <th>2</th>\n",
       "      <td>120</td>\n",
       "      <td>ASP.NET Site Maps</td>\n",
       "      <td>&lt;p&gt;Has anyone got experience creating &lt;strong&gt;...</td>\n",
       "      <td>[sql, asp.net, sitemap]</td>\n",
       "      <td>3</td>\n",
       "    </tr>\n",
       "    <tr>\n",
       "      <th>3</th>\n",
       "      <td>180</td>\n",
       "      <td>Function for creating color wheels</td>\n",
       "      <td>&lt;p&gt;This is something I've pseudo-solved many t...</td>\n",
       "      <td>[algorithm, language-agnostic, colors, color-s...</td>\n",
       "      <td>4</td>\n",
       "    </tr>\n",
       "    <tr>\n",
       "      <th>4</th>\n",
       "      <td>260</td>\n",
       "      <td>Adding scripting functionality to .NET applica...</td>\n",
       "      <td>&lt;p&gt;I have a little game written in C#. It uses...</td>\n",
       "      <td>[c#, .net, scripting, compiler-construction]</td>\n",
       "      <td>4</td>\n",
       "    </tr>\n",
       "  </tbody>\n",
       "</table>\n",
       "</div>"
      ],
      "text/plain": [
       "    id                                              title  \\\n",
       "0   80  SQLStatement.execute() - multiple queries in o...   \n",
       "1   90  Good branching and merging tutorials for Torto...   \n",
       "2  120                                  ASP.NET Site Maps   \n",
       "3  180                 Function for creating color wheels   \n",
       "4  260  Adding scripting functionality to .NET applica...   \n",
       "\n",
       "                                                body  \\\n",
       "0  <p>I've written a database generation script i...   \n",
       "1  <p>Are there any really good tutorials explain...   \n",
       "2  <p>Has anyone got experience creating <strong>...   \n",
       "3  <p>This is something I've pseudo-solved many t...   \n",
       "4  <p>I have a little game written in C#. It uses...   \n",
       "\n",
       "                                                 tag  tag_count  \n",
       "0                        [flex, actionscript-3, air]          3  \n",
       "1  [svn, tortoisesvn, branch, branching-and-merging]          4  \n",
       "2                            [sql, asp.net, sitemap]          3  \n",
       "3  [algorithm, language-agnostic, colors, color-s...          4  \n",
       "4       [c#, .net, scripting, compiler-construction]          4  "
      ]
     },
     "execution_count": 4,
     "metadata": {},
     "output_type": "execute_result"
    }
   ],
   "source": [
    "df.head()"
   ]
  },
  {
   "cell_type": "markdown",
   "metadata": {},
   "source": [
    "### Understand text length"
   ]
  },
  {
   "cell_type": "code",
   "execution_count": 28,
   "metadata": {},
   "outputs": [],
   "source": [
    "min_title_length = df[\"title\"].str.len().min()\n",
    "max_title_length = df[\"title\"].str.len().max()\n",
    "min_body_length = df[\"body\"].str.len().min()\n",
    "max_body_length = df[\"body\"].str.len().max()"
   ]
  },
  {
   "cell_type": "code",
   "execution_count": 29,
   "metadata": {},
   "outputs": [
    {
     "name": "stdout",
     "output_type": "stream",
     "text": [
      "min_title_length: 9\n",
      "max_title_length: 189\n",
      "min_body_length: 18\n",
      "max_body_length: 46489\n"
     ]
    }
   ],
   "source": [
    "print(f\"min_title_length: {min_title_length}\")\n",
    "print(f\"max_title_length: {max_title_length}\")\n",
    "print(f\"min_body_length: {min_body_length}\")\n",
    "print(f\"max_body_length: {max_body_length}\")"
   ]
  },
  {
   "cell_type": "code",
   "execution_count": 30,
   "metadata": {},
   "outputs": [
    {
     "data": {
      "text/html": [
       "<div>\n",
       "<style scoped>\n",
       "    .dataframe tbody tr th:only-of-type {\n",
       "        vertical-align: middle;\n",
       "    }\n",
       "\n",
       "    .dataframe tbody tr th {\n",
       "        vertical-align: top;\n",
       "    }\n",
       "\n",
       "    .dataframe thead th {\n",
       "        text-align: right;\n",
       "    }\n",
       "</style>\n",
       "<table border=\"1\" class=\"dataframe\">\n",
       "  <thead>\n",
       "    <tr style=\"text-align: right;\">\n",
       "      <th></th>\n",
       "      <th>id</th>\n",
       "      <th>title</th>\n",
       "      <th>body</th>\n",
       "      <th>tag</th>\n",
       "      <th>tag_count</th>\n",
       "    </tr>\n",
       "  </thead>\n",
       "  <tbody>\n",
       "    <tr>\n",
       "      <th>9695</th>\n",
       "      <td>622900</td>\n",
       "      <td>C# hashes</td>\n",
       "      <td>&lt;p&gt;I'm new to C#&lt;/p&gt;\\n\\n&lt;blockquote&gt;\\n  &lt;ol&gt;\\n...</td>\n",
       "      <td>[c#, hash]</td>\n",
       "      <td>2</td>\n",
       "    </tr>\n",
       "  </tbody>\n",
       "</table>\n",
       "</div>"
      ],
      "text/plain": [
       "          id      title                                               body  \\\n",
       "9695  622900  C# hashes  <p>I'm new to C#</p>\\n\\n<blockquote>\\n  <ol>\\n...   \n",
       "\n",
       "             tag  tag_count  \n",
       "9695  [c#, hash]          2  "
      ]
     },
     "execution_count": 30,
     "metadata": {},
     "output_type": "execute_result"
    }
   ],
   "source": [
    "df[df[\"title\"].str.len() == min_title_length]"
   ]
  },
  {
   "cell_type": "code",
   "execution_count": 31,
   "metadata": {},
   "outputs": [
    {
     "data": {
      "text/html": [
       "<div>\n",
       "<style scoped>\n",
       "    .dataframe tbody tr th:only-of-type {\n",
       "        vertical-align: middle;\n",
       "    }\n",
       "\n",
       "    .dataframe tbody tr th {\n",
       "        vertical-align: top;\n",
       "    }\n",
       "\n",
       "    .dataframe thead th {\n",
       "        text-align: right;\n",
       "    }\n",
       "</style>\n",
       "<table border=\"1\" class=\"dataframe\">\n",
       "  <thead>\n",
       "    <tr style=\"text-align: right;\">\n",
       "      <th></th>\n",
       "      <th>id</th>\n",
       "      <th>title</th>\n",
       "      <th>body</th>\n",
       "      <th>tag</th>\n",
       "      <th>tag_count</th>\n",
       "    </tr>\n",
       "  </thead>\n",
       "  <tbody>\n",
       "    <tr>\n",
       "      <th>694578</th>\n",
       "      <td>23691000</td>\n",
       "      <td>How to convert Office 365 ï¿½Éï¿½ï¿½ï¿½ï¿½é¼...</td>\n",
       "      <td>&lt;p&gt;I am reading source of the following url bu...</td>\n",
       "      <td>[c#, character-encoding]</td>\n",
       "      <td>2</td>\n",
       "    </tr>\n",
       "  </tbody>\n",
       "</table>\n",
       "</div>"
      ],
      "text/plain": [
       "              id                                              title  \\\n",
       "694578  23691000  How to convert Office 365 ï¿½Éï¿½ï¿½ï¿½ï¿½é¼...   \n",
       "\n",
       "                                                     body  \\\n",
       "694578  <p>I am reading source of the following url bu...   \n",
       "\n",
       "                             tag  tag_count  \n",
       "694578  [c#, character-encoding]          2  "
      ]
     },
     "execution_count": 31,
     "metadata": {},
     "output_type": "execute_result"
    }
   ],
   "source": [
    "df[df[\"title\"].str.len() == max_title_length]"
   ]
  },
  {
   "cell_type": "markdown",
   "metadata": {},
   "source": [
    "<img src=\"images/question-encoding-error.png\" width=\"500\" height=\"567\" /> \n",
    "We can see that the title actually has encoding error itself, so there is not much we can do."
   ]
  },
  {
   "cell_type": "code",
   "execution_count": 32,
   "metadata": {},
   "outputs": [
    {
     "data": {
      "text/html": [
       "<div>\n",
       "<style scoped>\n",
       "    .dataframe tbody tr th:only-of-type {\n",
       "        vertical-align: middle;\n",
       "    }\n",
       "\n",
       "    .dataframe tbody tr th {\n",
       "        vertical-align: top;\n",
       "    }\n",
       "\n",
       "    .dataframe thead th {\n",
       "        text-align: right;\n",
       "    }\n",
       "</style>\n",
       "<table border=\"1\" class=\"dataframe\">\n",
       "  <thead>\n",
       "    <tr style=\"text-align: right;\">\n",
       "      <th></th>\n",
       "      <th>id</th>\n",
       "      <th>title</th>\n",
       "      <th>body</th>\n",
       "      <th>tag</th>\n",
       "      <th>tag_count</th>\n",
       "    </tr>\n",
       "  </thead>\n",
       "  <tbody>\n",
       "    <tr>\n",
       "      <th>14480</th>\n",
       "      <td>858790</td>\n",
       "      <td>How to setup TeamCity under IIS?</td>\n",
       "      <td>&lt;p&gt;Any ideas?&lt;/p&gt;\\n</td>\n",
       "      <td>[version-control, teamcity]</td>\n",
       "      <td>2</td>\n",
       "    </tr>\n",
       "  </tbody>\n",
       "</table>\n",
       "</div>"
      ],
      "text/plain": [
       "           id                             title                 body  \\\n",
       "14480  858790  How to setup TeamCity under IIS?  <p>Any ideas?</p>\\n   \n",
       "\n",
       "                               tag  tag_count  \n",
       "14480  [version-control, teamcity]          2  "
      ]
     },
     "execution_count": 32,
     "metadata": {},
     "output_type": "execute_result"
    }
   ],
   "source": [
    "df[df[\"body\"].str.len() == min_body_length]"
   ]
  },
  {
   "cell_type": "code",
   "execution_count": 37,
   "metadata": {},
   "outputs": [
    {
     "data": {
      "text/html": [
       "<div>\n",
       "<style scoped>\n",
       "    .dataframe tbody tr th:only-of-type {\n",
       "        vertical-align: middle;\n",
       "    }\n",
       "\n",
       "    .dataframe tbody tr th {\n",
       "        vertical-align: top;\n",
       "    }\n",
       "\n",
       "    .dataframe thead th {\n",
       "        text-align: right;\n",
       "    }\n",
       "</style>\n",
       "<table border=\"1\" class=\"dataframe\">\n",
       "  <thead>\n",
       "    <tr style=\"text-align: right;\">\n",
       "      <th></th>\n",
       "      <th>id</th>\n",
       "      <th>title</th>\n",
       "      <th>body</th>\n",
       "      <th>tag</th>\n",
       "      <th>tag_count</th>\n",
       "    </tr>\n",
       "  </thead>\n",
       "  <tbody>\n",
       "    <tr>\n",
       "      <th>1168127</th>\n",
       "      <td>37657980</td>\n",
       "      <td>Elasticsearch - How to provide custom synonyms when querying?</td>\n",
       "      <td>&lt;p&gt;I'm developping a search engine for my client which has to use synonym expansion. I can properly setup my index with a synonym token filter and a custom file (synonym.txt). &lt;/p&gt;\\n\\n&lt;p&gt;Example: ipod, i-pod, i pod&lt;/p&gt;\\n\\n&lt;p&gt;However, whenever we want ...</td>\n",
       "      <td>[elasticsearch]</td>\n",
       "      <td>1</td>\n",
       "    </tr>\n",
       "  </tbody>\n",
       "</table>\n",
       "</div>"
      ],
      "text/plain": [
       "               id  \\\n",
       "1168127  37657980   \n",
       "\n",
       "                                                                 title  \\\n",
       "1168127  Elasticsearch - How to provide custom synonyms when querying?   \n",
       "\n",
       "                                                                                                                                                                                                                                                                   body  \\\n",
       "1168127  <p>I'm developping a search engine for my client which has to use synonym expansion. I can properly setup my index with a synonym token filter and a custom file (synonym.txt). </p>\\n\\n<p>Example: ipod, i-pod, i pod</p>\\n\\n<p>However, whenever we want ...   \n",
       "\n",
       "                     tag  tag_count  \n",
       "1168127  [elasticsearch]          1  "
      ]
     },
     "execution_count": 37,
     "metadata": {},
     "output_type": "execute_result"
    }
   ],
   "source": [
    "df[df[\"body\"].str.len() == max_body_length]"
   ]
  },
  {
   "cell_type": "markdown",
   "metadata": {},
   "source": [
    "<img src=\"images/question-long-body-text.png\" width=\"500\" height=\"300\" /> \n",
    "The actual text of the body is not particularly long, but rather the original poster has included a long portion of code for reference. We need to consider if we want to retain this type of information, as it may deviate the model assumption by a lot."
   ]
  },
  {
   "cell_type": "markdown",
   "metadata": {},
   "source": [
    "### Use BeautifulSoup to remove HTML tags from body text"
   ]
  },
  {
   "cell_type": "code",
   "execution_count": 70,
   "metadata": {},
   "outputs": [
    {
     "name": "stderr",
     "output_type": "stream",
     "text": [
      "100%|██████████| 1264216/1264216 [07:52<00:00, 2676.96it/s]\n"
     ]
    }
   ],
   "source": [
    "df[\"body\"] = df[\"body\"].progress_apply(lambda text: BeautifulSoup(text, \"lxml\").text)"
   ]
  },
  {
   "cell_type": "code",
   "execution_count": 71,
   "metadata": {},
   "outputs": [
    {
     "data": {
      "text/html": [
       "<div>\n",
       "<style scoped>\n",
       "    .dataframe tbody tr th:only-of-type {\n",
       "        vertical-align: middle;\n",
       "    }\n",
       "\n",
       "    .dataframe tbody tr th {\n",
       "        vertical-align: top;\n",
       "    }\n",
       "\n",
       "    .dataframe thead th {\n",
       "        text-align: right;\n",
       "    }\n",
       "</style>\n",
       "<table border=\"1\" class=\"dataframe\">\n",
       "  <thead>\n",
       "    <tr style=\"text-align: right;\">\n",
       "      <th></th>\n",
       "      <th>id</th>\n",
       "      <th>title</th>\n",
       "      <th>body</th>\n",
       "      <th>tag</th>\n",
       "      <th>tag_count</th>\n",
       "    </tr>\n",
       "  </thead>\n",
       "  <tbody>\n",
       "    <tr>\n",
       "      <th>0</th>\n",
       "      <td>80</td>\n",
       "      <td>SQLStatement.execute() - multiple queries in one statement</td>\n",
       "      <td>I've written a database generation script in SQL and want to execute it in my Adobe AIR application:\\nCreate Table tRole (\\n      roleID integer Primary Key\\n      ,roleName varchar(40)\\n);\\nCreate Table tFile (\\n    fileID integer Primary Key\\n    ,f...</td>\n",
       "      <td>[flex, actionscript-3, air]</td>\n",
       "      <td>3</td>\n",
       "    </tr>\n",
       "    <tr>\n",
       "      <th>1</th>\n",
       "      <td>90</td>\n",
       "      <td>Good branching and merging tutorials for TortoiseSVN?</td>\n",
       "      <td>Are there any really good tutorials explaining branching and merging with Apache Subversion? \\nAll the better if it's specific to TortoiseSVN client.\\n</td>\n",
       "      <td>[svn, tortoisesvn, branch, branching-and-merging]</td>\n",
       "      <td>4</td>\n",
       "    </tr>\n",
       "    <tr>\n",
       "      <th>2</th>\n",
       "      <td>120</td>\n",
       "      <td>ASP.NET Site Maps</td>\n",
       "      <td>Has anyone got experience creating SQL-based ASP.NET site-map providers?\\nI've got the default XML file web.sitemap working properly with my Menu and SiteMapPath controls, but I'll need a way for the users of my site to create and modify pages dynamic...</td>\n",
       "      <td>[sql, asp.net, sitemap]</td>\n",
       "      <td>3</td>\n",
       "    </tr>\n",
       "    <tr>\n",
       "      <th>3</th>\n",
       "      <td>180</td>\n",
       "      <td>Function for creating color wheels</td>\n",
       "      <td>This is something I've pseudo-solved many times and never quite found a solution. That's stuck with me. The problem is to come up with a way to generate N colors, that are as distinguishable as possible where N is a parameter.\\n</td>\n",
       "      <td>[algorithm, language-agnostic, colors, color-space]</td>\n",
       "      <td>4</td>\n",
       "    </tr>\n",
       "    <tr>\n",
       "      <th>4</th>\n",
       "      <td>260</td>\n",
       "      <td>Adding scripting functionality to .NET applications</td>\n",
       "      <td>I have a little game written in C#. It uses a database as back-end. It's \\na trading card game, and I wanted to implement the function of the cards as a script.\\nWhat I mean is that I essentially have an interface, ICard, which a card class implements...</td>\n",
       "      <td>[c#, .net, scripting, compiler-construction]</td>\n",
       "      <td>4</td>\n",
       "    </tr>\n",
       "  </tbody>\n",
       "</table>\n",
       "</div>"
      ],
      "text/plain": [
       "    id                                                       title  \\\n",
       "0   80  SQLStatement.execute() - multiple queries in one statement   \n",
       "1   90       Good branching and merging tutorials for TortoiseSVN?   \n",
       "2  120                                           ASP.NET Site Maps   \n",
       "3  180                          Function for creating color wheels   \n",
       "4  260         Adding scripting functionality to .NET applications   \n",
       "\n",
       "                                                                                                                                                                                                                                                             body  \\\n",
       "0  I've written a database generation script in SQL and want to execute it in my Adobe AIR application:\\nCreate Table tRole (\\n      roleID integer Primary Key\\n      ,roleName varchar(40)\\n);\\nCreate Table tFile (\\n    fileID integer Primary Key\\n    ,f...   \n",
       "1                                                                                                         Are there any really good tutorials explaining branching and merging with Apache Subversion? \\nAll the better if it's specific to TortoiseSVN client.\\n   \n",
       "2  Has anyone got experience creating SQL-based ASP.NET site-map providers?\\nI've got the default XML file web.sitemap working properly with my Menu and SiteMapPath controls, but I'll need a way for the users of my site to create and modify pages dynamic...   \n",
       "3                            This is something I've pseudo-solved many times and never quite found a solution. That's stuck with me. The problem is to come up with a way to generate N colors, that are as distinguishable as possible where N is a parameter.\\n   \n",
       "4  I have a little game written in C#. It uses a database as back-end. It's \\na trading card game, and I wanted to implement the function of the cards as a script.\\nWhat I mean is that I essentially have an interface, ICard, which a card class implements...   \n",
       "\n",
       "                                                   tag  tag_count  \n",
       "0                          [flex, actionscript-3, air]          3  \n",
       "1    [svn, tortoisesvn, branch, branching-and-merging]          4  \n",
       "2                              [sql, asp.net, sitemap]          3  \n",
       "3  [algorithm, language-agnostic, colors, color-space]          4  \n",
       "4         [c#, .net, scripting, compiler-construction]          4  "
      ]
     },
     "execution_count": 71,
     "metadata": {},
     "output_type": "execute_result"
    }
   ],
   "source": [
    "df.head()"
   ]
  },
  {
   "cell_type": "code",
   "execution_count": 72,
   "metadata": {},
   "outputs": [],
   "source": [
    "# checkpoint\n",
    "df.to_pickle(f\"{DATA_DIR}/tp-1.pkl\")"
   ]
  },
  {
   "cell_type": "markdown",
   "metadata": {},
   "source": [
    "### Lower case, remove newline and punctuations; tokenize and handle symbols in topics"
   ]
  },
  {
   "cell_type": "code",
   "execution_count": 5,
   "metadata": {},
   "outputs": [],
   "source": [
    "df[\"body\"] = df[\"body\"].str.lower()"
   ]
  },
  {
   "cell_type": "code",
   "execution_count": 6,
   "metadata": {},
   "outputs": [
    {
     "name": "stderr",
     "output_type": "stream",
     "text": [
      "  0%|          | 10/1264216 [00:00<3:32:52, 98.98it/s]"
     ]
    },
    {
     "name": "stdout",
     "output_type": "stream",
     "text": [
      "[nltk_data] Downloading package punkt to /home/ec2-user/nltk_data...\n",
      "[nltk_data]   Package punkt is already up-to-date!\n"
     ]
    },
    {
     "name": "stderr",
     "output_type": "stream",
     "text": [
      "100%|██████████| 1264216/1264216 [35:24<00:00, 594.98it/s] \n"
     ]
    }
   ],
   "source": [
    "import nltk\n",
    "nltk.download(\"punkt\")\n",
    "\n",
    "# we have to keep a list of topics with symbols or digits that people will actually type in because of how nltk handles word tokenization\n",
    "# this list includes tags that have more than 10,000 questions as of 2020 Jan\n",
    "topics_with_symbols = [\"c#\", \"c++\", \".net\", \"asp.net\", \"node.js\", \"objective-c\", \"unity3d\", \"html5\", \"css3\", \\\n",
    "                       \"d3.js\", \"utf-8\", \"neo4j\", \"scikit-learn\", \"f#\", \"3d\", \"x86\"]\n",
    "\n",
    "df[\"body_tokenized\"] = df[\"body\"].progress_apply(lambda text: [word for word in nltk.word_tokenize(text) \\\n",
    "                                                               if word.isalpha() or word in list(\"+#\") + topics_with_symbols])"
   ]
  },
  {
   "cell_type": "code",
   "execution_count": null,
   "metadata": {
    "scrolled": true
   },
   "outputs": [],
   "source": [
    "# retokenize topics including meaningful symbols such as C#, C++\n",
    "mwe_tokenizer = nltk.MWETokenizer(separator=\"\")\n",
    "mwe_tokenizer.add_mwe((\"c\", \"#\"))\n",
    "mwe_tokenizer.add_mwe((\"c\", \"+\", \"+\"))\n",
    "mwe_tokenizer.add_mwe((\"f\", \"#\"))\n",
    "\n",
    "df[\"body_tokenized\"] = df[\"body_tokenized\"].progress_apply(lambda tokens: [token for token in mwe_tokenizer.tokenize(tokens)])"
   ]
  },
  {
   "cell_type": "markdown",
   "metadata": {},
   "source": [
    "### Remove stop words"
   ]
  },
  {
   "cell_type": "code",
   "execution_count": null,
   "metadata": {},
   "outputs": [],
   "source": [
    "from nltk.corpus import stopwords\n",
    "\n",
    "nltk.download(\"stopwords\")\n",
    "stop_words = set(stopwords.words(\"english\"))\n",
    "\n",
    "def filter_stop_words(words):\n",
    "    words_filtered = []\n",
    "    for word in words:\n",
    "        if word not in stop_words:\n",
    "            words_filtered.append(word)\n",
    "    return words_filtered\n",
    "\n",
    "df[\"body_tokenized\"] = df[\"body_tokenized\"].progress_apply(filter_stop_words)"
   ]
  },
  {
   "cell_type": "markdown",
   "metadata": {},
   "source": [
    "Let's take a look at the results:"
   ]
  },
  {
   "cell_type": "code",
   "execution_count": 20,
   "metadata": {},
   "outputs": [
    {
     "data": {
      "text/html": [
       "<div>\n",
       "<style scoped>\n",
       "    .dataframe tbody tr th:only-of-type {\n",
       "        vertical-align: middle;\n",
       "    }\n",
       "\n",
       "    .dataframe tbody tr th {\n",
       "        vertical-align: top;\n",
       "    }\n",
       "\n",
       "    .dataframe thead th {\n",
       "        text-align: right;\n",
       "    }\n",
       "</style>\n",
       "<table border=\"1\" class=\"dataframe\">\n",
       "  <thead>\n",
       "    <tr style=\"text-align: right;\">\n",
       "      <th></th>\n",
       "      <th>id</th>\n",
       "      <th>title</th>\n",
       "      <th>body</th>\n",
       "      <th>tag</th>\n",
       "      <th>tag_count</th>\n",
       "      <th>body_tokenized</th>\n",
       "    </tr>\n",
       "  </thead>\n",
       "  <tbody>\n",
       "    <tr>\n",
       "      <th>349655</th>\n",
       "      <td>12519690</td>\n",
       "      <td>spring-mock in production code</td>\n",
       "      <td>one of our applications has the spring-mock.jar in the ear. i am the cm and i'm not a developer, but it doesn't seem like you want mock services in your production application. i thought the spring-mock.jar allows you to mimic certain services while t...</td>\n",
       "      <td>[java, spring, jar]</td>\n",
       "      <td>3</td>\n",
       "      <td>[one, applications, ear, cm, developer, seem, like, want, mock, services, production, application, thought, allows, mimic, certain, services, testing, see, code, dependencies, upon, classes, always, possible, runtime, dependencies, compile, time, depe...</td>\n",
       "    </tr>\n",
       "    <tr>\n",
       "      <th>79976</th>\n",
       "      <td>3480790</td>\n",
       "      <td>Subdomain and favicons</td>\n",
       "      <td>i'm having trouble showing the favicon of a subdomain (which redirects to a php file)\\nmc.company.com redirects to www.company.com/mc.php\\nin the mc.php file i have included a header (templates) which has the link and stuff for the favicon:\\n&lt;link rel...</td>\n",
       "      <td>[html, subdomain, favicon]</td>\n",
       "      <td>3</td>\n",
       "      <td>[trouble, showing, favicon, subdomain, redirects, php, file, redirects, file, included, header, templates, link, stuff, favicon, link, shortcut, icon, http, link, icon, http, noticed, main, index, subdirectory, creates, frameset, frame, file, frame, b...</td>\n",
       "    </tr>\n",
       "    <tr>\n",
       "      <th>2153</th>\n",
       "      <td>174400</td>\n",
       "      <td>Using VS 2005 to design abstract forms</td>\n",
       "      <td>there's a famous bug in visual studio that prevents you from using the form designer on a subclass of an abstract form.  \\nthis problem has already been elucidated and solved most elegantly by urban potato; that's not the part i'm having trouble with....</td>\n",
       "      <td>[c#, .net, visual-studio, winforms, designer]</td>\n",
       "      <td>5</td>\n",
       "      <td>[famous, bug, visual, studio, prevents, using, form, designer, subclass, abstract, form, problem, already, elucidated, solved, elegantly, urban, potato, part, trouble, trouble, duplicated, technique, described, urban, potato, included, project, happen...</td>\n",
       "    </tr>\n",
       "    <tr>\n",
       "      <th>401950</th>\n",
       "      <td>14218320</td>\n",
       "      <td>click/clickAndWait selenese command fails when used in play framework auto-test mode(headless browser)</td>\n",
       "      <td>while writing some acceptance tests for webapp (playframework based),i got confused by the usage of some selenium commands.\\nclick/clickandwait works well when i run in browser using this command. \\nplay run \\n\\nit fails when i run in command prompt(h...</td>\n",
       "      <td>[testing, selenium, playframework, selenium-ide, playframework-1.x]</td>\n",
       "      <td>5</td>\n",
       "      <td>[writing, acceptance, tests, webapp, playframework, based, got, confused, usage, selenium, commands, works, well, run, browser, using, command, play, run, fails, run, command, prompt, headless, browser, using, command, play, tried, commands, click, li...</td>\n",
       "    </tr>\n",
       "    <tr>\n",
       "      <th>126042</th>\n",
       "      <td>5098050</td>\n",
       "      <td>How do I prevent redeclaration errors when using Mock classes that implement the IteratorAggregate interface when testing with PHPUnit?</td>\n",
       "      <td>i'm writing a unit test that relies on an external class, exceptionmanager. i want to be able to predict what some specific functions on this class will return, so i'm using a mock object. the code is quite straightforward:\\n$mockexceptionmanager = $t...</td>\n",
       "      <td>[php, unit-testing, mocking, phpunit]</td>\n",
       "      <td>4</td>\n",
       "      <td>[writing, unit, test, relies, external, class, exceptionmanager, want, able, predict, specific, functions, class, return, using, mock, object, code, quite, straightforward, mockexceptionmanager, getmock, trouble, exception, manager, implements, iterat...</td>\n",
       "    </tr>\n",
       "  </tbody>\n",
       "</table>\n",
       "</div>"
      ],
      "text/plain": [
       "              id  \\\n",
       "349655  12519690   \n",
       "79976    3480790   \n",
       "2153      174400   \n",
       "401950  14218320   \n",
       "126042   5098050   \n",
       "\n",
       "                                                                                                                                          title  \\\n",
       "349655                                                                                                           spring-mock in production code   \n",
       "79976                                                                                                                    Subdomain and favicons   \n",
       "2153                                                                                                     Using VS 2005 to design abstract forms   \n",
       "401950                                   click/clickAndWait selenese command fails when used in play framework auto-test mode(headless browser)   \n",
       "126042  How do I prevent redeclaration errors when using Mock classes that implement the IteratorAggregate interface when testing with PHPUnit?   \n",
       "\n",
       "                                                                                                                                                                                                                                                                  body  \\\n",
       "349655  one of our applications has the spring-mock.jar in the ear. i am the cm and i'm not a developer, but it doesn't seem like you want mock services in your production application. i thought the spring-mock.jar allows you to mimic certain services while t...   \n",
       "79976   i'm having trouble showing the favicon of a subdomain (which redirects to a php file)\\nmc.company.com redirects to www.company.com/mc.php\\nin the mc.php file i have included a header (templates) which has the link and stuff for the favicon:\\n<link rel...   \n",
       "2153    there's a famous bug in visual studio that prevents you from using the form designer on a subclass of an abstract form.  \\nthis problem has already been elucidated and solved most elegantly by urban potato; that's not the part i'm having trouble with....   \n",
       "401950  while writing some acceptance tests for webapp (playframework based),i got confused by the usage of some selenium commands.\\nclick/clickandwait works well when i run in browser using this command. \\nplay run \\n\\nit fails when i run in command prompt(h...   \n",
       "126042  i'm writing a unit test that relies on an external class, exceptionmanager. i want to be able to predict what some specific functions on this class will return, so i'm using a mock object. the code is quite straightforward:\\n$mockexceptionmanager = $t...   \n",
       "\n",
       "                                                                        tag  \\\n",
       "349655                                                  [java, spring, jar]   \n",
       "79976                                            [html, subdomain, favicon]   \n",
       "2153                          [c#, .net, visual-studio, winforms, designer]   \n",
       "401950  [testing, selenium, playframework, selenium-ide, playframework-1.x]   \n",
       "126042                                [php, unit-testing, mocking, phpunit]   \n",
       "\n",
       "        tag_count  \\\n",
       "349655          3   \n",
       "79976           3   \n",
       "2153            5   \n",
       "401950          5   \n",
       "126042          4   \n",
       "\n",
       "                                                                                                                                                                                                                                                        body_tokenized  \n",
       "349655  [one, applications, ear, cm, developer, seem, like, want, mock, services, production, application, thought, allows, mimic, certain, services, testing, see, code, dependencies, upon, classes, always, possible, runtime, dependencies, compile, time, depe...  \n",
       "79976   [trouble, showing, favicon, subdomain, redirects, php, file, redirects, file, included, header, templates, link, stuff, favicon, link, shortcut, icon, http, link, icon, http, noticed, main, index, subdirectory, creates, frameset, frame, file, frame, b...  \n",
       "2153    [famous, bug, visual, studio, prevents, using, form, designer, subclass, abstract, form, problem, already, elucidated, solved, elegantly, urban, potato, part, trouble, trouble, duplicated, technique, described, urban, potato, included, project, happen...  \n",
       "401950  [writing, acceptance, tests, webapp, playframework, based, got, confused, usage, selenium, commands, works, well, run, browser, using, command, play, run, fails, run, command, prompt, headless, browser, using, command, play, tried, commands, click, li...  \n",
       "126042  [writing, unit, test, relies, external, class, exceptionmanager, want, able, predict, specific, functions, class, return, using, mock, object, code, quite, straightforward, mockexceptionmanager, getmock, trouble, exception, manager, implements, iterat...  "
      ]
     },
     "execution_count": 20,
     "metadata": {},
     "output_type": "execute_result"
    }
   ],
   "source": [
    "df.sample(5)"
   ]
  },
  {
   "cell_type": "markdown",
   "metadata": {},
   "source": [
    "### Repeat the steps above on title column as wellmwe_tokenizer"
   ]
  },
  {
   "cell_type": "code",
   "execution_count": null,
   "metadata": {
    "scrolled": true
   },
   "outputs": [],
   "source": [
    "df[\"title\"] = df[\"title\"].str.lower()\n",
    "\n",
    "df[\"title_tokenized\"] = df[\"title\"].progress_apply(lambda text: [word for word in nltk.word_tokenize(text) \\\n",
    "                                                               if word.isalpha() or word in list(\"+#\") + topics_with_symbols])\n",
    "\n",
    "df[\"title_tokenized\"] = df[\"title_tokenized\"].progress_apply(lambda tokens: [token for token in mwe_tokenizer.tokenize(tokens)])\n",
    "\n",
    "df[\"title_tokenized\"] = df[\"title_tokenized\"].progress_apply(filter_stop_words)"
   ]
  },
  {
   "cell_type": "code",
   "execution_count": 26,
   "metadata": {},
   "outputs": [
    {
     "data": {
      "text/html": [
       "<div>\n",
       "<style scoped>\n",
       "    .dataframe tbody tr th:only-of-type {\n",
       "        vertical-align: middle;\n",
       "    }\n",
       "\n",
       "    .dataframe tbody tr th {\n",
       "        vertical-align: top;\n",
       "    }\n",
       "\n",
       "    .dataframe thead th {\n",
       "        text-align: right;\n",
       "    }\n",
       "</style>\n",
       "<table border=\"1\" class=\"dataframe\">\n",
       "  <thead>\n",
       "    <tr style=\"text-align: right;\">\n",
       "      <th></th>\n",
       "      <th>id</th>\n",
       "      <th>title</th>\n",
       "      <th>body</th>\n",
       "      <th>tag</th>\n",
       "      <th>tag_count</th>\n",
       "      <th>body_tokenized</th>\n",
       "      <th>title_tokenized</th>\n",
       "    </tr>\n",
       "  </thead>\n",
       "  <tbody>\n",
       "    <tr>\n",
       "      <th>63709</th>\n",
       "      <td>2887940</td>\n",
       "      <td>re-adjusting a binary heap after removing the minimum element</td>\n",
       "      <td>after removing the minimum element in a binary heap, i.e. after removing the root, i understand that the heap must be adjusted in order to maintain the heap property. \\nbut the preferred method for doing this appears to be to assign the last leaf to t...</td>\n",
       "      <td>[algorithm, binary-heap]</td>\n",
       "      <td>2</td>\n",
       "      <td>[removing, minimum, element, binary, heap, removing, root, understand, heap, must, adjusted, order, maintain, heap, property, preferred, method, appears, assign, last, leaf, root, sift, wondering, take, lesser, child, used, root, keep, sifting, childr...</td>\n",
       "      <td>[binary, heap, removing, minimum, element]</td>\n",
       "    </tr>\n",
       "    <tr>\n",
       "      <th>408320</th>\n",
       "      <td>14430440</td>\n",
       "      <td>how to \"walk\" through word document making changes to the content?</td>\n",
       "      <td>i want to replace each character in file with another one.\\nnow i'm implementing it by using find.execute() method, but in this case it spends time for searching and then replaces it, then search for another character from the beginning of file again,...</td>\n",
       "      <td>[c#, .net, ms-word]</td>\n",
       "      <td>3</td>\n",
       "      <td>[want, replace, character, file, another, one, implementing, using, method, case, spends, time, searching, replaces, search, another, character, beginning, file, want, replace, alphabetic, letters, go, whole, document, lower, case, upper, case, times,...</td>\n",
       "      <td>[walk, word, document, making, changes, content]</td>\n",
       "    </tr>\n",
       "    <tr>\n",
       "      <th>466985</th>\n",
       "      <td>16342040</td>\n",
       "      <td>using an @autowired resource with \"try with resource\"</td>\n",
       "      <td>given the following:\\npublic class resourceone implements autocloseable {...}\\n\\nwith an instance of resourceone instantiated in (spring) xml config. \\nhow should this object (when autowired) be used with the \"try-with-resources statement\", since you ...</td>\n",
       "      <td>[java, spring]</td>\n",
       "      <td>2</td>\n",
       "      <td>[given, following, public, class, resourceone, implements, autocloseable, instance, resourceone, instantiated, spring, xml, config, object, autowired, used, statement, since, required, instantiate, resource, try, block, one, approach, could, use, refe...</td>\n",
       "      <td>[using, autowired, resource, try, resource]</td>\n",
       "    </tr>\n",
       "    <tr>\n",
       "      <th>653505</th>\n",
       "      <td>22397870</td>\n",
       "      <td>facing an error in program of image capturing and processing using opencv(cv2) and python</td>\n",
       "      <td>in the following program, it captures and processes image runtime. but i am facing a lot problems in the code. the first problem is, when camera is initialized for the  first time and if it is unable to detect red colour in captured frame then it give...</td>\n",
       "      <td>[opencv, python-2.7]</td>\n",
       "      <td>2</td>\n",
       "      <td>[following, program, captures, processes, image, runtime, facing, lot, problems, code, first, problem, camera, initialized, first, time, unable, detect, red, colour, captured, frame, gives, following, error, traceback, recent, call, last, file, line, ...</td>\n",
       "      <td>[facing, error, program, image, capturing, processing, using, opencv, python]</td>\n",
       "    </tr>\n",
       "    <tr>\n",
       "      <th>1194463</th>\n",
       "      <td>38354640</td>\n",
       "      <td>grouping list by nth element</td>\n",
       "      <td>i have a 2d list like the ones below \\noriginal_list = [['2', 'out', 'words', 'test3', '21702-1201', 'us', 41829.0, 'vn', 'post', 'nai'],\\n                 ['test', 'info', 'more info', 'stuff', '63123-7802', 'us', 40942.0, 'cm', 'user info', 'vai'],\\...</td>\n",
       "      <td>[python, list]</td>\n",
       "      <td>2</td>\n",
       "      <td>[list, like, ones, info, info, user, already, sorted, list, zip, code, want, split, list, zip, code, element, group, zip, codes, new, list, would, also, like, sort, first, numbers, zip, code, ignoring, last, tried, use, zip, function, could, get, grou...</td>\n",
       "      <td>[grouping, list, nth, element]</td>\n",
       "    </tr>\n",
       "  </tbody>\n",
       "</table>\n",
       "</div>"
      ],
      "text/plain": [
       "               id  \\\n",
       "63709     2887940   \n",
       "408320   14430440   \n",
       "466985   16342040   \n",
       "653505   22397870   \n",
       "1194463  38354640   \n",
       "\n",
       "                                                                                             title  \\\n",
       "63709                                re-adjusting a binary heap after removing the minimum element   \n",
       "408320                          how to \"walk\" through word document making changes to the content?   \n",
       "466985                                       using an @autowired resource with \"try with resource\"   \n",
       "653505   facing an error in program of image capturing and processing using opencv(cv2) and python   \n",
       "1194463                                                               grouping list by nth element   \n",
       "\n",
       "                                                                                                                                                                                                                                                                   body  \\\n",
       "63709    after removing the minimum element in a binary heap, i.e. after removing the root, i understand that the heap must be adjusted in order to maintain the heap property. \\nbut the preferred method for doing this appears to be to assign the last leaf to t...   \n",
       "408320   i want to replace each character in file with another one.\\nnow i'm implementing it by using find.execute() method, but in this case it spends time for searching and then replaces it, then search for another character from the beginning of file again,...   \n",
       "466985   given the following:\\npublic class resourceone implements autocloseable {...}\\n\\nwith an instance of resourceone instantiated in (spring) xml config. \\nhow should this object (when autowired) be used with the \"try-with-resources statement\", since you ...   \n",
       "653505   in the following program, it captures and processes image runtime. but i am facing a lot problems in the code. the first problem is, when camera is initialized for the  first time and if it is unable to detect red colour in captured frame then it give...   \n",
       "1194463  i have a 2d list like the ones below \\noriginal_list = [['2', 'out', 'words', 'test3', '21702-1201', 'us', 41829.0, 'vn', 'post', 'nai'],\\n                 ['test', 'info', 'more info', 'stuff', '63123-7802', 'us', 40942.0, 'cm', 'user info', 'vai'],\\...   \n",
       "\n",
       "                              tag  tag_count  \\\n",
       "63709    [algorithm, binary-heap]          2   \n",
       "408320        [c#, .net, ms-word]          3   \n",
       "466985             [java, spring]          2   \n",
       "653505       [opencv, python-2.7]          2   \n",
       "1194463            [python, list]          2   \n",
       "\n",
       "                                                                                                                                                                                                                                                         body_tokenized  \\\n",
       "63709    [removing, minimum, element, binary, heap, removing, root, understand, heap, must, adjusted, order, maintain, heap, property, preferred, method, appears, assign, last, leaf, root, sift, wondering, take, lesser, child, used, root, keep, sifting, childr...   \n",
       "408320   [want, replace, character, file, another, one, implementing, using, method, case, spends, time, searching, replaces, search, another, character, beginning, file, want, replace, alphabetic, letters, go, whole, document, lower, case, upper, case, times,...   \n",
       "466985   [given, following, public, class, resourceone, implements, autocloseable, instance, resourceone, instantiated, spring, xml, config, object, autowired, used, statement, since, required, instantiate, resource, try, block, one, approach, could, use, refe...   \n",
       "653505   [following, program, captures, processes, image, runtime, facing, lot, problems, code, first, problem, camera, initialized, first, time, unable, detect, red, colour, captured, frame, gives, following, error, traceback, recent, call, last, file, line, ...   \n",
       "1194463  [list, like, ones, info, info, user, already, sorted, list, zip, code, want, split, list, zip, code, element, group, zip, codes, new, list, would, also, like, sort, first, numbers, zip, code, ignoring, last, tried, use, zip, function, could, get, grou...   \n",
       "\n",
       "                                                                       title_tokenized  \n",
       "63709                                       [binary, heap, removing, minimum, element]  \n",
       "408320                                [walk, word, document, making, changes, content]  \n",
       "466985                                     [using, autowired, resource, try, resource]  \n",
       "653505   [facing, error, program, image, capturing, processing, using, opencv, python]  \n",
       "1194463                                                 [grouping, list, nth, element]  "
      ]
     },
     "execution_count": 26,
     "metadata": {},
     "output_type": "execute_result"
    }
   ],
   "source": [
    "df.sample(5)"
   ]
  },
  {
   "cell_type": "code",
   "execution_count": 28,
   "metadata": {},
   "outputs": [],
   "source": [
    "# checkpoint\n",
    "df.rename(columns={\"tag\": \"tags\"}, inplace=True)\n",
    "df[[\"id\", \"title_tokenized\", \"body_tokenized\", \"tags\"]].to_pickle(f\"{DATA_DIR}/tp-2.pkl\")"
   ]
  },
  {
   "cell_type": "code",
   "execution_count": null,
   "metadata": {},
   "outputs": [],
   "source": []
  }
 ],
 "metadata": {
  "jupytext": {
   "formats": "ipynb,py:percent"
  },
  "kernelspec": {
   "display_name": "Python 3",
   "language": "python",
   "name": "python3"
  },
  "language_info": {
   "codemirror_mode": {
    "name": "ipython",
    "version": 3
   },
   "file_extension": ".py",
   "mimetype": "text/x-python",
   "name": "python",
   "nbconvert_exporter": "python",
   "pygments_lexer": "ipython3",
   "version": "3.6.5"
  }
 },
 "nbformat": 4,
 "nbformat_minor": 4
}
