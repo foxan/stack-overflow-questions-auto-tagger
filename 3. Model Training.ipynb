{
 "cells": [
  {
   "cell_type": "markdown",
   "metadata": {},
   "source": [
    "### Model training"
   ]
  },
  {
   "cell_type": "code",
   "execution_count": null,
   "metadata": {},
   "outputs": [],
   "source": [
    "import os\n",
    "from sklearn.externals import joblib\n",
    "\n",
    "HOME_DIR = os.curdir\n",
    "DATA_DIR = os.path.join(HOME_DIR, \"data\")\n",
    "MODEL_DIR = os.path.join(HOME_DIR, \"model\")"
   ]
  },
  {
   "cell_type": "code",
   "execution_count": 4,
   "metadata": {},
   "outputs": [],
   "source": [
    "import pandas as pd\n",
    "from tqdm import tqdm\n",
    "\n",
    "pd.options.display.max_colwidth = 255\n",
    "tqdm.pandas()"
   ]
  },
  {
   "cell_type": "code",
   "execution_count": 5,
   "metadata": {},
   "outputs": [],
   "source": [
    "X_train = joblib.load(f\"{DATA_DIR}/x_train.pkl\")\n",
    "X_test = joblib.load(f\"{DATA_DIR}/x_test.pkl\")\n",
    "y_train = joblib.load(f\"{DATA_DIR}/y_train.pkl\")\n",
    "y_test = joblib.load(f\"{DATA_DIR}/y_test.pkl\")\n",
    "y_classes = joblib.load(f\"{DATA_DIR}/y_classes.pkl\")"
   ]
  },
  {
   "cell_type": "code",
   "execution_count": 4,
   "metadata": {},
   "outputs": [],
   "source": [
    "%%time\n",
    "\n",
    "from sklearn.multiclass import OneVsRestClassifier\n",
    "from xgboost import XGBClassifier\n",
    "\n",
    "xgb_classifier = XGBClassifier(max_depth=5,\n",
    "                               eta=0.2,\n",
    "                               gamma=4,\n",
    "                               min_child_weight=6,\n",
    "                               subsample=0.8,\n",
    "                               early_stopping_rounds=10,\n",
    "                               num_round=200,\n",
    "                               n_jobs=-1)\n",
    "\n",
    "clf = OneVsRestClassifier(xgb_classifier)\n",
    "clf.fit(X_train, y_train)"
   ]
  },
  {
   "cell_type": "markdown",
   "metadata": {},
   "source": [
    "`XGBClassifier` takes way too long to train, so I switch to linear model using `SGDClassifier`."
   ]
  },
  {
   "cell_type": "code",
   "execution_count": 28,
   "metadata": {
    "scrolled": true
   },
   "outputs": [
    {
     "name": "stderr",
     "output_type": "stream",
     "text": [
      "/home/ec2-user/anaconda3/envs/python3/lib/python3.6/site-packages/sklearn/linear_model/stochastic_gradient.py:166: FutureWarning: max_iter and tol parameters have been added in SGDClassifier in 0.19. If both are left unset, they default to max_iter=5 and tol=None. If tol is not None, max_iter defaults to max_iter=1000. From 0.21, default max_iter will be 1000, and default tol will be 1e-3.\n",
      "  FutureWarning)\n"
     ]
    },
    {
     "name": "stdout",
     "output_type": "stream",
     "text": [
      "CPU times: user 11h 37min 22s, sys: 19min 36s, total: 11h 56min 58s\n",
      "Wall time: 2h 22min 10s\n"
     ]
    }
   ],
   "source": [
    "%%time\n",
    "\n",
    "from sklearn.multiclass import OneVsRestClassifier\n",
    "from sklearn.linear_model import SGDClassifier\n",
    "\n",
    "sgd_classifier = SGDClassifier(n_jobs=-1)\n",
    "\n",
    "clf = OneVsRestClassifier(sgd_classifier)\n",
    "clf.fit(X_train, y_train)"
   ]
  },
  {
   "cell_type": "markdown",
   "metadata": {},
   "source": [
    "The time shown here is not accurate. It took around 5 hours to train the model (which actually contains 4,000 models, one model for each class) on a whopping `ml.m5.12xlarge` instance on AWS.\n",
    "\n",
    "This posed a challenge to me on model tuning as this training alone would cost ~$15 already. We will first evaluate the model and see how it performs."
   ]
  },
  {
   "cell_type": "code",
   "execution_count": 29,
   "metadata": {},
   "outputs": [
    {
     "data": {
      "text/plain": [
       "['./model/one_vs_rest_classifier.pkl']"
      ]
     },
     "execution_count": 29,
     "metadata": {},
     "output_type": "execute_result"
    }
   ],
   "source": [
    "# save the model\n",
    "joblib.dump(clf, f\"{MODEL_DIR}/one_vs_rest_classifier.pkl\")"
   ]
  },
  {
   "cell_type": "code",
   "execution_count": null,
   "metadata": {
    "scrolled": false
   },
   "outputs": [],
   "source": [
    "clf = joblib.load(f\"{MODEL_DIR}/one_vs_rest_classifier.pkl\")"
   ]
  },
  {
   "cell_type": "code",
   "execution_count": 7,
   "metadata": {},
   "outputs": [
    {
     "name": "stdout",
     "output_type": "stream",
     "text": [
      "CPU times: user 1min 51s, sys: 2.07 s, total: 1min 53s\n",
      "Wall time: 1min 54s\n"
     ]
    }
   ],
   "source": [
    "%%time\n",
    "\n",
    "y_pred = clf.predict(X_test)"
   ]
  },
  {
   "cell_type": "code",
   "execution_count": 31,
   "metadata": {
    "scrolled": true
   },
   "outputs": [
    {
     "data": {
      "text/plain": [
       "['./model/y_pred.pkl']"
      ]
     },
     "execution_count": 31,
     "metadata": {},
     "output_type": "execute_result"
    }
   ],
   "source": [
    "joblib.dump(y_pred, f\"{MODEL_DIR}/y_pred.pkl\")"
   ]
  },
  {
   "cell_type": "markdown",
   "metadata": {},
   "source": [
    "### Model evaluation"
   ]
  },
  {
   "cell_type": "markdown",
   "metadata": {},
   "source": [
    "#### Precision, recall, F-1 score"
   ]
  },
  {
   "cell_type": "code",
   "execution_count": 26,
   "metadata": {},
   "outputs": [
    {
     "name": "stdout",
     "output_type": "stream",
     "text": [
      "precision: [0.87878788 0.61148649 0.         ... 0.88       0.82352941 1.        ]\n",
      "recall: [0.57649092 0.15048846 0.         ... 0.57894737 0.17283951 0.27272727]\n",
      "fscore: [0.69624217 0.24153461 0.         ... 0.6984127  0.28571429 0.42857143]\n",
      "support: [1157 4811   59 ...   38   81   33]\n",
      "CPU times: user 3min 16s, sys: 1min 7s, total: 4min 23s\n",
      "Wall time: 4min 46s\n"
     ]
    },
    {
     "name": "stderr",
     "output_type": "stream",
     "text": [
      "/Users/foxanng/.pyenv/versions/3.6.5/envs/stack-overflow-questions-auto-tagger/lib/python3.6/site-packages/sklearn/metrics/_classification.py:1272: UndefinedMetricWarning: Precision and F-score are ill-defined and being set to 0.0 in labels with no predicted samples. Use `zero_division` parameter to control this behavior.\n",
      "  _warn_prf(average, modifier, msg_start, len(result))\n"
     ]
    }
   ],
   "source": [
    "%%time\n",
    "\n",
    "from sklearn.metrics import precision_recall_fscore_support as score\n",
    "\n",
    "precision, recall, fscore, support = score(y_test, y_pred)\n",
    "\n",
    "print(f\"precision: {precision}\")\n",
    "print(f\"recall: {recall}\")\n",
    "print(f\"fscore: {fscore}\")\n",
    "print(f\"support: {support}\")"
   ]
  },
  {
   "cell_type": "markdown",
   "metadata": {},
   "source": [
    "#### Hamming loss"
   ]
  },
  {
   "cell_type": "code",
   "execution_count": null,
   "metadata": {
    "scrolled": true
   },
   "outputs": [],
   "source": [
    "from sklearn.metrics import hamming_loss\n",
    "\n",
    "hamming = []\n",
    "\n",
    "for i, (test, pred) in enumerate(zip(y_test.T, y_pred.T)):\n",
    "    hamming.append(hamming_loss(test, pred))"
   ]
  },
  {
   "cell_type": "code",
   "execution_count": 157,
   "metadata": {},
   "outputs": [],
   "source": [
    "metric_df = pd.DataFrame(data=[precision, recall, fscore, hamming, support],\n",
    "                         index=[\"Precision\", \"Recall\", \"F-1 score\", \"Hamming loss\", \"True count\"],\n",
    "                         columns=y_classes)"
   ]
  },
  {
   "cell_type": "code",
   "execution_count": 158,
   "metadata": {},
   "outputs": [
    {
     "data": {
      "text/html": [
       "<div>\n",
       "<style scoped>\n",
       "    .dataframe tbody tr th:only-of-type {\n",
       "        vertical-align: middle;\n",
       "    }\n",
       "\n",
       "    .dataframe tbody tr th {\n",
       "        vertical-align: top;\n",
       "    }\n",
       "\n",
       "    .dataframe thead th {\n",
       "        text-align: right;\n",
       "    }\n",
       "</style>\n",
       "<table border=\"1\" class=\"dataframe\">\n",
       "  <thead>\n",
       "    <tr style=\"text-align: right;\">\n",
       "      <th></th>\n",
       "      <th>.htaccess</th>\n",
       "      <th>.net</th>\n",
       "      <th>.net-2.0</th>\n",
       "      <th>.net-3.5</th>\n",
       "      <th>.net-4.0</th>\n",
       "      <th>.net-4.5</th>\n",
       "      <th>.net-assembly</th>\n",
       "      <th>.net-core</th>\n",
       "      <th>2d</th>\n",
       "      <th>32-bit</th>\n",
       "      <th>...</th>\n",
       "      <th>zend-framework2</th>\n",
       "      <th>zeromq</th>\n",
       "      <th>zip</th>\n",
       "      <th>zk</th>\n",
       "      <th>zlib</th>\n",
       "      <th>zookeeper</th>\n",
       "      <th>zoom</th>\n",
       "      <th>zsh</th>\n",
       "      <th>zurb-foundation</th>\n",
       "      <th>zxing</th>\n",
       "    </tr>\n",
       "  </thead>\n",
       "  <tbody>\n",
       "    <tr>\n",
       "      <th>Precision</th>\n",
       "      <td>0.878788</td>\n",
       "      <td>0.611486</td>\n",
       "      <td>0.000000</td>\n",
       "      <td>0.00000</td>\n",
       "      <td>0.000000</td>\n",
       "      <td>0.0000</td>\n",
       "      <td>0.000000</td>\n",
       "      <td>0.000000</td>\n",
       "      <td>0.000000</td>\n",
       "      <td>0.000000</td>\n",
       "      <td>...</td>\n",
       "      <td>0.000000</td>\n",
       "      <td>1.000000</td>\n",
       "      <td>0.000000</td>\n",
       "      <td>1.000000</td>\n",
       "      <td>0.000000</td>\n",
       "      <td>1.000000</td>\n",
       "      <td>0.00000</td>\n",
       "      <td>0.880000</td>\n",
       "      <td>0.823529</td>\n",
       "      <td>1.000000</td>\n",
       "    </tr>\n",
       "    <tr>\n",
       "      <th>Recall</th>\n",
       "      <td>0.576491</td>\n",
       "      <td>0.150488</td>\n",
       "      <td>0.000000</td>\n",
       "      <td>0.00000</td>\n",
       "      <td>0.000000</td>\n",
       "      <td>0.0000</td>\n",
       "      <td>0.000000</td>\n",
       "      <td>0.000000</td>\n",
       "      <td>0.000000</td>\n",
       "      <td>0.000000</td>\n",
       "      <td>...</td>\n",
       "      <td>0.000000</td>\n",
       "      <td>0.258065</td>\n",
       "      <td>0.000000</td>\n",
       "      <td>0.238095</td>\n",
       "      <td>0.000000</td>\n",
       "      <td>0.281250</td>\n",
       "      <td>0.00000</td>\n",
       "      <td>0.578947</td>\n",
       "      <td>0.172840</td>\n",
       "      <td>0.272727</td>\n",
       "    </tr>\n",
       "    <tr>\n",
       "      <th>F-1 score</th>\n",
       "      <td>0.696242</td>\n",
       "      <td>0.241535</td>\n",
       "      <td>0.000000</td>\n",
       "      <td>0.00000</td>\n",
       "      <td>0.000000</td>\n",
       "      <td>0.0000</td>\n",
       "      <td>0.000000</td>\n",
       "      <td>0.000000</td>\n",
       "      <td>0.000000</td>\n",
       "      <td>0.000000</td>\n",
       "      <td>...</td>\n",
       "      <td>0.000000</td>\n",
       "      <td>0.410256</td>\n",
       "      <td>0.000000</td>\n",
       "      <td>0.384615</td>\n",
       "      <td>0.000000</td>\n",
       "      <td>0.439024</td>\n",
       "      <td>0.00000</td>\n",
       "      <td>0.698413</td>\n",
       "      <td>0.285714</td>\n",
       "      <td>0.428571</td>\n",
       "    </tr>\n",
       "    <tr>\n",
       "      <th>Hamming loss</th>\n",
       "      <td>0.002326</td>\n",
       "      <td>0.018174</td>\n",
       "      <td>0.000236</td>\n",
       "      <td>0.00044</td>\n",
       "      <td>0.000624</td>\n",
       "      <td>0.0003</td>\n",
       "      <td>0.000136</td>\n",
       "      <td>0.000108</td>\n",
       "      <td>0.000364</td>\n",
       "      <td>0.000084</td>\n",
       "      <td>...</td>\n",
       "      <td>0.000612</td>\n",
       "      <td>0.000092</td>\n",
       "      <td>0.000436</td>\n",
       "      <td>0.000064</td>\n",
       "      <td>0.000092</td>\n",
       "      <td>0.000092</td>\n",
       "      <td>0.00028</td>\n",
       "      <td>0.000076</td>\n",
       "      <td>0.000280</td>\n",
       "      <td>0.000096</td>\n",
       "    </tr>\n",
       "    <tr>\n",
       "      <th>True count</th>\n",
       "      <td>1157.000000</td>\n",
       "      <td>4811.000000</td>\n",
       "      <td>59.000000</td>\n",
       "      <td>110.00000</td>\n",
       "      <td>156.000000</td>\n",
       "      <td>75.0000</td>\n",
       "      <td>34.000000</td>\n",
       "      <td>27.000000</td>\n",
       "      <td>91.000000</td>\n",
       "      <td>21.000000</td>\n",
       "      <td>...</td>\n",
       "      <td>153.000000</td>\n",
       "      <td>31.000000</td>\n",
       "      <td>109.000000</td>\n",
       "      <td>21.000000</td>\n",
       "      <td>23.000000</td>\n",
       "      <td>32.000000</td>\n",
       "      <td>70.00000</td>\n",
       "      <td>38.000000</td>\n",
       "      <td>81.000000</td>\n",
       "      <td>33.000000</td>\n",
       "    </tr>\n",
       "  </tbody>\n",
       "</table>\n",
       "<p>5 rows × 4000 columns</p>\n",
       "</div>"
      ],
      "text/plain": [
       "                .htaccess         .net   .net-2.0   .net-3.5    .net-4.0  \\\n",
       "Precision        0.878788     0.611486   0.000000    0.00000    0.000000   \n",
       "Recall           0.576491     0.150488   0.000000    0.00000    0.000000   \n",
       "F-1 score        0.696242     0.241535   0.000000    0.00000    0.000000   \n",
       "Hamming loss     0.002326     0.018174   0.000236    0.00044    0.000624   \n",
       "True count    1157.000000  4811.000000  59.000000  110.00000  156.000000   \n",
       "\n",
       "              .net-4.5  .net-assembly  .net-core         2d     32-bit  ...  \\\n",
       "Precision       0.0000       0.000000   0.000000   0.000000   0.000000  ...   \n",
       "Recall          0.0000       0.000000   0.000000   0.000000   0.000000  ...   \n",
       "F-1 score       0.0000       0.000000   0.000000   0.000000   0.000000  ...   \n",
       "Hamming loss    0.0003       0.000136   0.000108   0.000364   0.000084  ...   \n",
       "True count     75.0000      34.000000  27.000000  91.000000  21.000000  ...   \n",
       "\n",
       "              zend-framework2     zeromq         zip         zk       zlib  \\\n",
       "Precision            0.000000   1.000000    0.000000   1.000000   0.000000   \n",
       "Recall               0.000000   0.258065    0.000000   0.238095   0.000000   \n",
       "F-1 score            0.000000   0.410256    0.000000   0.384615   0.000000   \n",
       "Hamming loss         0.000612   0.000092    0.000436   0.000064   0.000092   \n",
       "True count         153.000000  31.000000  109.000000  21.000000  23.000000   \n",
       "\n",
       "              zookeeper      zoom        zsh  zurb-foundation      zxing  \n",
       "Precision      1.000000   0.00000   0.880000         0.823529   1.000000  \n",
       "Recall         0.281250   0.00000   0.578947         0.172840   0.272727  \n",
       "F-1 score      0.439024   0.00000   0.698413         0.285714   0.428571  \n",
       "Hamming loss   0.000092   0.00028   0.000076         0.000280   0.000096  \n",
       "True count    32.000000  70.00000  38.000000        81.000000  33.000000  \n",
       "\n",
       "[5 rows x 4000 columns]"
      ]
     },
     "execution_count": 158,
     "metadata": {},
     "output_type": "execute_result"
    }
   ],
   "source": [
    "metric_df"
   ]
  },
  {
   "cell_type": "markdown",
   "metadata": {},
   "source": [
    "Just by a quick glance, we can see that the actual results for some tags are quite good, e.g. `.htaccess`, `zookeeper`, `zsh`. The overall results are not as good as expected is because there are a lot of tags that results in no prediction at all."
   ]
  },
  {
   "cell_type": "code",
   "execution_count": 177,
   "metadata": {},
   "outputs": [
    {
     "data": {
      "text/html": [
       "<div>\n",
       "<style scoped>\n",
       "    .dataframe tbody tr th:only-of-type {\n",
       "        vertical-align: middle;\n",
       "    }\n",
       "\n",
       "    .dataframe tbody tr th {\n",
       "        vertical-align: top;\n",
       "    }\n",
       "\n",
       "    .dataframe thead th {\n",
       "        text-align: right;\n",
       "    }\n",
       "</style>\n",
       "<table border=\"1\" class=\"dataframe\">\n",
       "  <thead>\n",
       "    <tr style=\"text-align: right;\">\n",
       "      <th></th>\n",
       "      <th>.net</th>\n",
       "      <th>.net-2.0</th>\n",
       "      <th>.net-3.5</th>\n",
       "      <th>.net-4.0</th>\n",
       "      <th>.net-4.5</th>\n",
       "      <th>.net-assembly</th>\n",
       "      <th>.net-core</th>\n",
       "    </tr>\n",
       "  </thead>\n",
       "  <tbody>\n",
       "    <tr>\n",
       "      <th>Precision</th>\n",
       "      <td>0.611486</td>\n",
       "      <td>0.000000</td>\n",
       "      <td>0.00000</td>\n",
       "      <td>0.000000</td>\n",
       "      <td>0.0000</td>\n",
       "      <td>0.000000</td>\n",
       "      <td>0.000000</td>\n",
       "    </tr>\n",
       "    <tr>\n",
       "      <th>Recall</th>\n",
       "      <td>0.150488</td>\n",
       "      <td>0.000000</td>\n",
       "      <td>0.00000</td>\n",
       "      <td>0.000000</td>\n",
       "      <td>0.0000</td>\n",
       "      <td>0.000000</td>\n",
       "      <td>0.000000</td>\n",
       "    </tr>\n",
       "    <tr>\n",
       "      <th>F-1 score</th>\n",
       "      <td>0.241535</td>\n",
       "      <td>0.000000</td>\n",
       "      <td>0.00000</td>\n",
       "      <td>0.000000</td>\n",
       "      <td>0.0000</td>\n",
       "      <td>0.000000</td>\n",
       "      <td>0.000000</td>\n",
       "    </tr>\n",
       "    <tr>\n",
       "      <th>Hamming loss</th>\n",
       "      <td>0.018174</td>\n",
       "      <td>0.000236</td>\n",
       "      <td>0.00044</td>\n",
       "      <td>0.000624</td>\n",
       "      <td>0.0003</td>\n",
       "      <td>0.000136</td>\n",
       "      <td>0.000108</td>\n",
       "    </tr>\n",
       "    <tr>\n",
       "      <th>True count</th>\n",
       "      <td>4811.000000</td>\n",
       "      <td>59.000000</td>\n",
       "      <td>110.00000</td>\n",
       "      <td>156.000000</td>\n",
       "      <td>75.0000</td>\n",
       "      <td>34.000000</td>\n",
       "      <td>27.000000</td>\n",
       "    </tr>\n",
       "  </tbody>\n",
       "</table>\n",
       "</div>"
      ],
      "text/plain": [
       "                     .net   .net-2.0   .net-3.5    .net-4.0  .net-4.5  \\\n",
       "Precision        0.611486   0.000000    0.00000    0.000000    0.0000   \n",
       "Recall           0.150488   0.000000    0.00000    0.000000    0.0000   \n",
       "F-1 score        0.241535   0.000000    0.00000    0.000000    0.0000   \n",
       "Hamming loss     0.018174   0.000236    0.00044    0.000624    0.0003   \n",
       "True count    4811.000000  59.000000  110.00000  156.000000   75.0000   \n",
       "\n",
       "              .net-assembly  .net-core  \n",
       "Precision          0.000000   0.000000  \n",
       "Recall             0.000000   0.000000  \n",
       "F-1 score          0.000000   0.000000  \n",
       "Hamming loss       0.000136   0.000108  \n",
       "True count        34.000000  27.000000  "
      ]
     },
     "execution_count": 177,
     "metadata": {},
     "output_type": "execute_result"
    }
   ],
   "source": [
    "metric_df.loc[:, metric_df.columns.str.startswith(\".net\")]"
   ]
  },
  {
   "cell_type": "markdown",
   "metadata": {},
   "source": [
    "For example, consider the list of tags with `.net` in the name.\n",
    "We can see that the reason that a lot of tags has no predictions, is because:\n",
    "- they have too few examples in the dataset.\n",
    "- they are being tagged for the main topic instead of the sub topics.\n",
    "\n",
    "e.g. specific version of `.net` (e.g. `.net-2.0`, `.net-3.5`), or sub topics under `.net` (e.g. `.net-assembly`, `.net-core`). We can filter them out to see how the model actually performs for major tags."
   ]
  },
  {
   "cell_type": "markdown",
   "metadata": {},
   "source": [
    "Let's take a look at the top 10 tags:"
   ]
  },
  {
   "cell_type": "code",
   "execution_count": 163,
   "metadata": {},
   "outputs": [
    {
     "data": {
      "text/html": [
       "<div>\n",
       "<style scoped>\n",
       "    .dataframe tbody tr th:only-of-type {\n",
       "        vertical-align: middle;\n",
       "    }\n",
       "\n",
       "    .dataframe tbody tr th {\n",
       "        vertical-align: top;\n",
       "    }\n",
       "\n",
       "    .dataframe thead th {\n",
       "        text-align: right;\n",
       "    }\n",
       "</style>\n",
       "<table border=\"1\" class=\"dataframe\">\n",
       "  <thead>\n",
       "    <tr style=\"text-align: right;\">\n",
       "      <th></th>\n",
       "      <th>javascript</th>\n",
       "      <th>java</th>\n",
       "      <th>c#</th>\n",
       "      <th>php</th>\n",
       "      <th>android</th>\n",
       "      <th>jquery</th>\n",
       "      <th>python</th>\n",
       "      <th>html</th>\n",
       "      <th>c++</th>\n",
       "      <th>ios</th>\n",
       "    </tr>\n",
       "  </thead>\n",
       "  <tbody>\n",
       "    <tr>\n",
       "      <th>Precision</th>\n",
       "      <td>0.827928</td>\n",
       "      <td>0.860739</td>\n",
       "      <td>0.861886</td>\n",
       "      <td>0.876108</td>\n",
       "      <td>0.952586</td>\n",
       "      <td>0.915800</td>\n",
       "      <td>0.904279</td>\n",
       "      <td>0.613877</td>\n",
       "      <td>0.911454</td>\n",
       "      <td>0.786137</td>\n",
       "    </tr>\n",
       "    <tr>\n",
       "      <th>Recall</th>\n",
       "      <td>0.345116</td>\n",
       "      <td>0.399799</td>\n",
       "      <td>0.298210</td>\n",
       "      <td>0.554698</td>\n",
       "      <td>0.735213</td>\n",
       "      <td>0.472226</td>\n",
       "      <td>0.587470</td>\n",
       "      <td>0.259817</td>\n",
       "      <td>0.484266</td>\n",
       "      <td>0.406237</td>\n",
       "    </tr>\n",
       "    <tr>\n",
       "      <th>F-1 score</th>\n",
       "      <td>0.487161</td>\n",
       "      <td>0.545993</td>\n",
       "      <td>0.443106</td>\n",
       "      <td>0.679303</td>\n",
       "      <td>0.829901</td>\n",
       "      <td>0.623136</td>\n",
       "      <td>0.712234</td>\n",
       "      <td>0.365107</td>\n",
       "      <td>0.632486</td>\n",
       "      <td>0.535667</td>\n",
       "    </tr>\n",
       "    <tr>\n",
       "      <th>Hamming loss</th>\n",
       "      <td>0.073044</td>\n",
       "      <td>0.060682</td>\n",
       "      <td>0.060250</td>\n",
       "      <td>0.041792</td>\n",
       "      <td>0.021791</td>\n",
       "      <td>0.035757</td>\n",
       "      <td>0.024501</td>\n",
       "      <td>0.042675</td>\n",
       "      <td>0.021659</td>\n",
       "      <td>0.026720</td>\n",
       "    </tr>\n",
       "    <tr>\n",
       "      <th>True count</th>\n",
       "      <td>25151.000000</td>\n",
       "      <td>22834.000000</td>\n",
       "      <td>20110.000000</td>\n",
       "      <td>19964.000000</td>\n",
       "      <td>18090.000000</td>\n",
       "      <td>15662.000000</td>\n",
       "      <td>12913.000000</td>\n",
       "      <td>11816.000000</td>\n",
       "      <td>9629.000000</td>\n",
       "      <td>9492.000000</td>\n",
       "    </tr>\n",
       "  </tbody>\n",
       "</table>\n",
       "</div>"
      ],
      "text/plain": [
       "                javascript          java            c#           php  \\\n",
       "Precision         0.827928      0.860739      0.861886      0.876108   \n",
       "Recall            0.345116      0.399799      0.298210      0.554698   \n",
       "F-1 score         0.487161      0.545993      0.443106      0.679303   \n",
       "Hamming loss      0.073044      0.060682      0.060250      0.041792   \n",
       "True count    25151.000000  22834.000000  20110.000000  19964.000000   \n",
       "\n",
       "                   android        jquery        python          html  \\\n",
       "Precision         0.952586      0.915800      0.904279      0.613877   \n",
       "Recall            0.735213      0.472226      0.587470      0.259817   \n",
       "F-1 score         0.829901      0.623136      0.712234      0.365107   \n",
       "Hamming loss      0.021791      0.035757      0.024501      0.042675   \n",
       "True count    18090.000000  15662.000000  12913.000000  11816.000000   \n",
       "\n",
       "                      c++          ios  \n",
       "Precision        0.911454     0.786137  \n",
       "Recall           0.484266     0.406237  \n",
       "F-1 score        0.632486     0.535667  \n",
       "Hamming loss     0.021659     0.026720  \n",
       "True count    9629.000000  9492.000000  "
      ]
     },
     "execution_count": 163,
     "metadata": {},
     "output_type": "execute_result"
    }
   ],
   "source": [
    "top_ten_tags = [\"javascript\", \"java\", \"c#\", \"php\", \"android\", \"jquery\", \"python\", \"html\", \"c++\", \"ios\"]\n",
    "metric_df[top_ten_tags]"
   ]
  },
  {
   "cell_type": "code",
   "execution_count": 164,
   "metadata": {},
   "outputs": [
    {
     "data": {
      "text/plain": [
       "Precision           0.851079\n",
       "Recall              0.454305\n",
       "F-1 score           0.585409\n",
       "Hamming loss        0.040887\n",
       "True count      16566.100000\n",
       "dtype: float64"
      ]
     },
     "execution_count": 164,
     "metadata": {},
     "output_type": "execute_result"
    }
   ],
   "source": [
    "import numpy as np\n",
    "metric_df[top_ten_tags].apply(np.mean, axis=1)"
   ]
  },
  {
   "cell_type": "markdown",
   "metadata": {},
   "source": [
    "The metrics for the top 10 tags are actually pretty good. It is partly because they have a lot of samples (true count) in the dataset."
   ]
  },
  {
   "cell_type": "code",
   "execution_count": 188,
   "metadata": {},
   "outputs": [],
   "source": [
    "non_zero_metric_df = metric_df.loc[:, metric_df.loc[\"F-1 score\"] > 0]"
   ]
  },
  {
   "cell_type": "code",
   "execution_count": 189,
   "metadata": {},
   "outputs": [
    {
     "data": {
      "text/plain": [
       "Precision         0.877573\n",
       "Recall            0.422915\n",
       "F-1 score         0.527627\n",
       "Hamming loss      0.001262\n",
       "True count      489.225806\n",
       "dtype: float64"
      ]
     },
     "execution_count": 189,
     "metadata": {},
     "output_type": "execute_result"
    }
   ],
   "source": [
    "non_zero_metric_df.apply(np.mean, axis=1)"
   ]
  },
  {
   "cell_type": "markdown",
   "metadata": {},
   "source": [
    "There are 930 tags with predictions from this model, and the hamming loss is 0.001262, which beats the benchmark (0.002779), which contains only the top 500 popular tags. So this model is capable of predicting more tags with a lower loss."
   ]
  },
  {
   "cell_type": "markdown",
   "metadata": {},
   "source": [
    "### Extra"
   ]
  },
  {
   "cell_type": "code",
   "execution_count": 199,
   "metadata": {},
   "outputs": [
    {
     "data": {
      "text/plain": [
       "Text(0, 0.5, 'Recall')"
      ]
     },
     "execution_count": 199,
     "metadata": {},
     "output_type": "execute_result"
    },
    {
     "data": {
      "image/png": "[encoded data removed]",
      "text/plain": [
       "<Figure size 432x288 with 1 Axes>"
      ]
     },
     "metadata": {
      "needs_background": "light"
     },
     "output_type": "display_data"
    }
   ],
   "source": [
    "import seaborn as sns\n",
    "import matplotlib.pyplot as plt\n",
    "\n",
    "sns.scatterplot(x=metric_df.loc[\"Precision\"], y=metric_df.loc[\"Recall\"])\n",
    "plt.title(\"All tags\")\n",
    "plt.xlabel(\"Precision\")\n",
    "plt.ylabel(\"Recall\")"
   ]
  },
  {
   "cell_type": "code",
   "execution_count": 197,
   "metadata": {},
   "outputs": [
    {
     "data": {
      "text/plain": [
       "Text(336.9714285714286, 0.5, 'Recall')"
      ]
     },
     "execution_count": 197,
     "metadata": {},
     "output_type": "execute_result"
    },
    {
     "data": {
      "image/png": "[encoded data removed]",
      "text/plain": [
       "<Figure size 432x432 with 3 Axes>"
      ]
     },
     "metadata": {
      "needs_background": "light"
     },
     "output_type": "display_data"
    }
   ],
   "source": [
    "sns.jointplot(x=non_zero_metric_df.loc[\"Precision\"], y=non_zero_metric_df.loc[\"Recall\"], kind=\"hex\")\n",
    "plt.title(\"Tags with predictions\")\n",
    "plt.xlim((0, 1))\n",
    "plt.xlabel(\"Precision\")\n",
    "plt.ylabel(\"Recall\")"
   ]
  },
  {
   "cell_type": "code",
   "execution_count": 54,
   "metadata": {},
   "outputs": [],
   "source": [
    "def print_pred_test_n(pred, test, n):\n",
    "    pred_n = pd.DataFrame(y_pred[n:n+1], columns=y_classes)\n",
    "    pred_n = pred_n.sum()\n",
    "    print(\"Prediction:\")\n",
    "    print(pred_n[pred_n.values > 0])\n",
    "    \n",
    "    test_n = pd.DataFrame(y_test[n:n+1], columns=y_classes)\n",
    "    test_n = test_n.sum()\n",
    "    print(\"\\nActual:\")\n",
    "    print(test_n[test_n.values > 0])"
   ]
  },
  {
   "cell_type": "code",
   "execution_count": 55,
   "metadata": {},
   "outputs": [
    {
     "name": "stdout",
     "output_type": "stream",
     "text": [
      "Prediction:\n",
      "json    1\n",
      "php     1\n",
      "dtype: int64\n",
      "\n",
      "Actual:\n",
      "json     1\n",
      "mysql    1\n",
      "php      1\n",
      "dtype: int64\n"
     ]
    }
   ],
   "source": [
    "print_pred_test_n(y_pred, y_test, 100)"
   ]
  },
  {
   "cell_type": "code",
   "execution_count": null,
   "metadata": {},
   "outputs": [],
   "source": []
  }
 ],
 "metadata": {
  "jupytext": {
   "formats": "ipynb,py:percent"
  },
  "kernelspec": {
   "display_name": "Python 3",
   "language": "python",
   "name": "python3"
  },
  "language_info": {
   "codemirror_mode": {
    "name": "ipython",
    "version": 3
   },
   "file_extension": ".py",
   "mimetype": "text/x-python",
   "name": "python",
   "nbconvert_exporter": "python",
   "pygments_lexer": "ipython3",
   "version": "3.6.5"
  }
 },
 "nbformat": 4,
 "nbformat_minor": 4
}
